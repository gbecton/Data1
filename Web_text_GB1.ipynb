{
  "nbformat": 4,
  "nbformat_minor": 0,
  "metadata": {
    "colab": {
      "name": "Web/text_GB1.ipynb",
      "provenance": [],
      "collapsed_sections": []
    },
    "kernelspec": {
      "display_name": "Python 3",
      "language": "python",
      "name": "python3"
    }
  },
  "cells": [
    {
      "cell_type": "markdown",
      "metadata": {
        "id": "Wwn-BSOXqr7u"
      },
      "source": [
        "# Getting Data: Web & Text\n",
        "### Gabriel Becton\n",
        "\n",
        "\n",
        "Today we will be looking at scraping data from websites that have no API and work with manipulating text data."
      ]
    },
    {
      "cell_type": "markdown",
      "metadata": {
        "id": "rpz0MtJyqr7w"
      },
      "source": [
        "## Extracting tables from websites using Pandas\n",
        "\n",
        "Yes it is true, Pandas can do just about everything.  We will use a Pandas function that can read information from websites that is stored in tables.\n",
        "\n",
        "### The Website: Box Office Mojo\n",
        "\n",
        "[boxofficemojo.com](https://www.boxofficemojo.com) contains a wealth of information on the performance of movies during their theater runs.  We will practice extracting some of the information from the tables hosted on the site.\n",
        "\n",
        "**First!** We need to check to see if the site has any policies against scraping and automated access.  Let us check their [robots.txt](https://www.boxofficemojo.com/robots.txt) file.  Click on the link and take a look.  It seems that automated data collection is allowed in all regions of the website.\n",
        "\n",
        "Now we will select a data table.  Let us look at the top movies for the weekend of January 3-5, 2020 (the first weekend in January)\n",
        "\n",
        "https://www.boxofficemojo.com/weekend/2020W01/\n",
        "\n",
        "You should do the following.\n",
        "\n",
        "1. Click on the link and inspect the contents of the page.\n",
        "2. While on the page, look at the structure of the HTML that is used to format the data table.  You can see the HTML of any page by inspecting the page source.  The exact way you do this depends on your browser, in Chrome it is: Click on the View menu, then Developer, then View Source.\n",
        "\n",
        "Ok, now let's go get that data!"
      ]
    },
    {
      "cell_type": "code",
      "metadata": {
        "id": "CKSQ0O38qr7y"
      },
      "source": [
        "import pandas as pd\n",
        "\n",
        "tables = pd.read_html(\"https://www.boxofficemojo.com/weekend/2021W01/\")"
      ],
      "execution_count": null,
      "outputs": []
    },
    {
      "cell_type": "markdown",
      "metadata": {
        "id": "qsqjSzd_qr72"
      },
      "source": [
        "`tables` is a list of tables from the page.  Let's see how many there are."
      ]
    },
    {
      "cell_type": "code",
      "metadata": {
        "id": "VpEMUMy0qr73",
        "colab": {
          "base_uri": "https://localhost:8080/"
        },
        "outputId": "251472f2-58b8-4c9f-d453-6ed1794deb6d"
      },
      "source": [
        "len(tables)"
      ],
      "execution_count": null,
      "outputs": [
        {
          "output_type": "execute_result",
          "data": {
            "text/plain": [
              "1"
            ]
          },
          "metadata": {},
          "execution_count": 3
        }
      ]
    },
    {
      "cell_type": "markdown",
      "metadata": {
        "id": "Hsr7oCJgqr78"
      },
      "source": [
        "Let's see what data is in each table."
      ]
    },
    {
      "cell_type": "code",
      "metadata": {
        "id": "OBHtXUFNqr79",
        "colab": {
          "base_uri": "https://localhost:8080/",
          "height": 204
        },
        "outputId": "0249f965-7508-4aa7-d99b-0d31dac25626"
      },
      "source": [
        "for t in tables:\n",
        "    display(t.head())"
      ],
      "execution_count": null,
      "outputs": [
        {
          "output_type": "display_data",
          "data": {
            "text/html": [
              "<div>\n",
              "<style scoped>\n",
              "    .dataframe tbody tr th:only-of-type {\n",
              "        vertical-align: middle;\n",
              "    }\n",
              "\n",
              "    .dataframe tbody tr th {\n",
              "        vertical-align: top;\n",
              "    }\n",
              "\n",
              "    .dataframe thead th {\n",
              "        text-align: right;\n",
              "    }\n",
              "</style>\n",
              "<table border=\"1\" class=\"dataframe\">\n",
              "  <thead>\n",
              "    <tr style=\"text-align: right;\">\n",
              "      <th></th>\n",
              "      <th>Rank</th>\n",
              "      <th>LW</th>\n",
              "      <th>Release</th>\n",
              "      <th>Gross</th>\n",
              "      <th>%± LW</th>\n",
              "      <th>Theaters</th>\n",
              "      <th>Change</th>\n",
              "      <th>Average</th>\n",
              "      <th>Total Gross</th>\n",
              "      <th>Weeks</th>\n",
              "      <th>Distributor</th>\n",
              "      <th>New This Week</th>\n",
              "      <th>Estimated</th>\n",
              "    </tr>\n",
              "  </thead>\n",
              "  <tbody>\n",
              "    <tr>\n",
              "      <th>0</th>\n",
              "      <td>1</td>\n",
              "      <td>1</td>\n",
              "      <td>Wonder Woman 1984</td>\n",
              "      <td>$5,429,210</td>\n",
              "      <td>-67.5%</td>\n",
              "      <td>2151</td>\n",
              "      <td>-</td>\n",
              "      <td>$2,524</td>\n",
              "      <td>$28,438,521</td>\n",
              "      <td>2</td>\n",
              "      <td>Warner Bros.</td>\n",
              "      <td>False</td>\n",
              "      <td>False</td>\n",
              "    </tr>\n",
              "    <tr>\n",
              "      <th>1</th>\n",
              "      <td>2</td>\n",
              "      <td>3</td>\n",
              "      <td>The Croods: A New Age</td>\n",
              "      <td>$2,224,435</td>\n",
              "      <td>+27.4%</td>\n",
              "      <td>1751</td>\n",
              "      <td>+25</td>\n",
              "      <td>$1,270</td>\n",
              "      <td>$34,558,715</td>\n",
              "      <td>6</td>\n",
              "      <td>Universal Pictures</td>\n",
              "      <td>False</td>\n",
              "      <td>False</td>\n",
              "    </tr>\n",
              "    <tr>\n",
              "      <th>2</th>\n",
              "      <td>3</td>\n",
              "      <td>2</td>\n",
              "      <td>News of the World</td>\n",
              "      <td>$1,690,180</td>\n",
              "      <td>-24.9%</td>\n",
              "      <td>1928</td>\n",
              "      <td>+28</td>\n",
              "      <td>$876</td>\n",
              "      <td>$5,407,350</td>\n",
              "      <td>2</td>\n",
              "      <td>Universal Pictures</td>\n",
              "      <td>False</td>\n",
              "      <td>False</td>\n",
              "    </tr>\n",
              "    <tr>\n",
              "      <th>3</th>\n",
              "      <td>4</td>\n",
              "      <td>4</td>\n",
              "      <td>Monster Hunter</td>\n",
              "      <td>$1,263,978</td>\n",
              "      <td>+15.2%</td>\n",
              "      <td>1807</td>\n",
              "      <td>-10</td>\n",
              "      <td>$699</td>\n",
              "      <td>$6,282,381</td>\n",
              "      <td>3</td>\n",
              "      <td>Screen Gems</td>\n",
              "      <td>False</td>\n",
              "      <td>False</td>\n",
              "    </tr>\n",
              "    <tr>\n",
              "      <th>4</th>\n",
              "      <td>5</td>\n",
              "      <td>6</td>\n",
              "      <td>Fatale</td>\n",
              "      <td>$701,561</td>\n",
              "      <td>+6.3%</td>\n",
              "      <td>1183</td>\n",
              "      <td>+15</td>\n",
              "      <td>$593</td>\n",
              "      <td>$3,089,694</td>\n",
              "      <td>3</td>\n",
              "      <td>Lionsgate</td>\n",
              "      <td>False</td>\n",
              "      <td>False</td>\n",
              "    </tr>\n",
              "  </tbody>\n",
              "</table>\n",
              "</div>"
            ],
            "text/plain": [
              "   Rank LW                Release  ...         Distributor New This Week  Estimated\n",
              "0     1  1      Wonder Woman 1984  ...        Warner Bros.         False      False\n",
              "1     2  3  The Croods: A New Age  ...  Universal Pictures         False      False\n",
              "2     3  2      News of the World  ...  Universal Pictures         False      False\n",
              "3     4  4         Monster Hunter  ...         Screen Gems         False      False\n",
              "4     5  6                 Fatale  ...           Lionsgate         False      False\n",
              "\n",
              "[5 rows x 13 columns]"
            ]
          },
          "metadata": {}
        }
      ]
    },
    {
      "cell_type": "markdown",
      "metadata": {
        "id": "0eMSP7a5qr8B"
      },
      "source": [
        "There is only one table in this case and the one has the data we want."
      ]
    },
    {
      "cell_type": "code",
      "metadata": {
        "id": "3u0ubkBEqr8C",
        "colab": {
          "base_uri": "https://localhost:8080/",
          "height": 204
        },
        "outputId": "c23f2065-d4e8-4163-dd82-32745fa9af20"
      },
      "source": [
        "movieData = tables[0]\n",
        "\n",
        "movieData.head()"
      ],
      "execution_count": null,
      "outputs": [
        {
          "output_type": "execute_result",
          "data": {
            "text/html": [
              "<div>\n",
              "<style scoped>\n",
              "    .dataframe tbody tr th:only-of-type {\n",
              "        vertical-align: middle;\n",
              "    }\n",
              "\n",
              "    .dataframe tbody tr th {\n",
              "        vertical-align: top;\n",
              "    }\n",
              "\n",
              "    .dataframe thead th {\n",
              "        text-align: right;\n",
              "    }\n",
              "</style>\n",
              "<table border=\"1\" class=\"dataframe\">\n",
              "  <thead>\n",
              "    <tr style=\"text-align: right;\">\n",
              "      <th></th>\n",
              "      <th>Rank</th>\n",
              "      <th>LW</th>\n",
              "      <th>Release</th>\n",
              "      <th>Gross</th>\n",
              "      <th>%± LW</th>\n",
              "      <th>Theaters</th>\n",
              "      <th>Change</th>\n",
              "      <th>Average</th>\n",
              "      <th>Total Gross</th>\n",
              "      <th>Weeks</th>\n",
              "      <th>Distributor</th>\n",
              "      <th>New This Week</th>\n",
              "      <th>Estimated</th>\n",
              "    </tr>\n",
              "  </thead>\n",
              "  <tbody>\n",
              "    <tr>\n",
              "      <th>0</th>\n",
              "      <td>1</td>\n",
              "      <td>1</td>\n",
              "      <td>Wonder Woman 1984</td>\n",
              "      <td>$5,429,210</td>\n",
              "      <td>-67.5%</td>\n",
              "      <td>2151</td>\n",
              "      <td>-</td>\n",
              "      <td>$2,524</td>\n",
              "      <td>$28,438,521</td>\n",
              "      <td>2</td>\n",
              "      <td>Warner Bros.</td>\n",
              "      <td>False</td>\n",
              "      <td>False</td>\n",
              "    </tr>\n",
              "    <tr>\n",
              "      <th>1</th>\n",
              "      <td>2</td>\n",
              "      <td>3</td>\n",
              "      <td>The Croods: A New Age</td>\n",
              "      <td>$2,224,435</td>\n",
              "      <td>+27.4%</td>\n",
              "      <td>1751</td>\n",
              "      <td>+25</td>\n",
              "      <td>$1,270</td>\n",
              "      <td>$34,558,715</td>\n",
              "      <td>6</td>\n",
              "      <td>Universal Pictures</td>\n",
              "      <td>False</td>\n",
              "      <td>False</td>\n",
              "    </tr>\n",
              "    <tr>\n",
              "      <th>2</th>\n",
              "      <td>3</td>\n",
              "      <td>2</td>\n",
              "      <td>News of the World</td>\n",
              "      <td>$1,690,180</td>\n",
              "      <td>-24.9%</td>\n",
              "      <td>1928</td>\n",
              "      <td>+28</td>\n",
              "      <td>$876</td>\n",
              "      <td>$5,407,350</td>\n",
              "      <td>2</td>\n",
              "      <td>Universal Pictures</td>\n",
              "      <td>False</td>\n",
              "      <td>False</td>\n",
              "    </tr>\n",
              "    <tr>\n",
              "      <th>3</th>\n",
              "      <td>4</td>\n",
              "      <td>4</td>\n",
              "      <td>Monster Hunter</td>\n",
              "      <td>$1,263,978</td>\n",
              "      <td>+15.2%</td>\n",
              "      <td>1807</td>\n",
              "      <td>-10</td>\n",
              "      <td>$699</td>\n",
              "      <td>$6,282,381</td>\n",
              "      <td>3</td>\n",
              "      <td>Screen Gems</td>\n",
              "      <td>False</td>\n",
              "      <td>False</td>\n",
              "    </tr>\n",
              "    <tr>\n",
              "      <th>4</th>\n",
              "      <td>5</td>\n",
              "      <td>6</td>\n",
              "      <td>Fatale</td>\n",
              "      <td>$701,561</td>\n",
              "      <td>+6.3%</td>\n",
              "      <td>1183</td>\n",
              "      <td>+15</td>\n",
              "      <td>$593</td>\n",
              "      <td>$3,089,694</td>\n",
              "      <td>3</td>\n",
              "      <td>Lionsgate</td>\n",
              "      <td>False</td>\n",
              "      <td>False</td>\n",
              "    </tr>\n",
              "  </tbody>\n",
              "</table>\n",
              "</div>"
            ],
            "text/plain": [
              "   Rank LW                Release  ...         Distributor New This Week  Estimated\n",
              "0     1  1      Wonder Woman 1984  ...        Warner Bros.         False      False\n",
              "1     2  3  The Croods: A New Age  ...  Universal Pictures         False      False\n",
              "2     3  2      News of the World  ...  Universal Pictures         False      False\n",
              "3     4  4         Monster Hunter  ...         Screen Gems         False      False\n",
              "4     5  6                 Fatale  ...           Lionsgate         False      False\n",
              "\n",
              "[5 rows x 13 columns]"
            ]
          },
          "metadata": {},
          "execution_count": 5
        }
      ]
    },
    {
      "cell_type": "markdown",
      "metadata": {
        "id": "G_uVoe5Uqr8Q"
      },
      "source": [
        "Now we shall take a look at the data by making some scatter plots to investigate relationships between pairs of columns.  First, we can compare **Gross** with **Weeks** to see if new movies make more money than those that have been out for a while. \n",
        "\n",
        "Hmm, looking at **Gross**, we can see there are dollar signs in the values given which means that those entries are not just numbers.  This could confuse our plotting routines."
      ]
    },
    {
      "cell_type": "code",
      "metadata": {
        "id": "n1Svs3elqr8S",
        "colab": {
          "base_uri": "https://localhost:8080/"
        },
        "outputId": "a91c2df0-f41d-4b30-dc82-2810dda3ca15"
      },
      "source": [
        "movieData.dtypes"
      ],
      "execution_count": null,
      "outputs": [
        {
          "output_type": "execute_result",
          "data": {
            "text/plain": [
              "Rank              int64\n",
              "LW               object\n",
              "Release          object\n",
              "Gross            object\n",
              "%± LW            object\n",
              "Theaters          int64\n",
              "Change           object\n",
              "Average          object\n",
              "Total Gross      object\n",
              "Weeks             int64\n",
              "Distributor      object\n",
              "New This Week      bool\n",
              "Estimated          bool\n",
              "dtype: object"
            ]
          },
          "metadata": {},
          "execution_count": 6
        }
      ]
    },
    {
      "cell_type": "code",
      "metadata": {
        "id": "GV-3zVUzqr8Y",
        "colab": {
          "base_uri": "https://localhost:8080/"
        },
        "outputId": "1bf96d46-d5dc-44b2-e941-d0e47e62ff5c"
      },
      "source": [
        "# Get rid of dollar signs and commas then cast as a number\n",
        "movieData[\"Gross\"].replace('[\\$,]', '', regex=True, inplace=True)\n",
        "movieData[\"Gross\"] = movieData[\"Gross\"].apply(pd.to_numeric)\n",
        "\n",
        "# Do Total Gross too\n",
        "movieData[\"Total Gross\"].replace('[\\$,]', '', regex=True, inplace=True)\n",
        "movieData[\"Total Gross\"] = movieData[\"Total Gross\"].apply(pd.to_numeric)\n",
        "\n",
        "movieData.dtypes"
      ],
      "execution_count": null,
      "outputs": [
        {
          "output_type": "execute_result",
          "data": {
            "text/plain": [
              "Rank              int64\n",
              "LW               object\n",
              "Release          object\n",
              "Gross             int64\n",
              "%± LW            object\n",
              "Theaters          int64\n",
              "Change           object\n",
              "Average          object\n",
              "Total Gross       int64\n",
              "Weeks             int64\n",
              "Distributor      object\n",
              "New This Week      bool\n",
              "Estimated          bool\n",
              "dtype: object"
            ]
          },
          "metadata": {},
          "execution_count": 7
        }
      ]
    },
    {
      "cell_type": "code",
      "metadata": {
        "id": "1iFpJ334qr8c",
        "colab": {
          "base_uri": "https://localhost:8080/",
          "height": 369
        },
        "outputId": "93f76380-6ae8-433c-cbf9-9146d43382b5"
      },
      "source": [
        "%matplotlib inline\n",
        "import matplotlib.pyplot as plt\n",
        "import seaborn as sns\n",
        "\n",
        "sns.lmplot(x='Weeks', y='Gross', data=movieData, fit_reg=False)\n",
        "ax = plt.gca()\n",
        "ax.set_xlim(-2, 21)\n",
        "ax.set_ylabel('Weekend Gross(\\$)')\n",
        "ax.set_xlabel('Number of Weeks');"
      ],
      "execution_count": null,
      "outputs": [
        {
          "output_type": "display_data",
          "data": {
            "image/png": "[encoded data removed]",
            "text/plain": [
              "<Figure size 360x360 with 1 Axes>"
            ]
          },
          "metadata": {
            "needs_background": "light"
          }
        }
      ]
    },
    {
      "cell_type": "markdown",
      "metadata": {
        "id": "7mYE4dY6qr8j"
      },
      "source": [
        "Now let's look to see if movies that have been out longer make more money overall."
      ]
    },
    {
      "cell_type": "code",
      "metadata": {
        "id": "6_K6AkTzqr8k",
        "colab": {
          "base_uri": "https://localhost:8080/",
          "height": 369
        },
        "outputId": "ea8b75d1-7db5-46a0-e297-f6ae0e54c9ed"
      },
      "source": [
        "sns.lmplot(x='Weeks', y='Total Gross', data=movieData, fit_reg=False)\n",
        "ax = plt.gca()\n",
        "ax.set_xlim(-2, 21)\n",
        "ax.set_ylabel('Total Gross(\\$)')\n",
        "ax.set_xlabel('Number of Weeks');"
      ],
      "execution_count": null,
      "outputs": [
        {
          "output_type": "display_data",
          "data": {
            "image/png": "[encoded data removed]",
            "text/plain": [
              "<Figure size 360x360 with 1 Axes>"
            ]
          },
          "metadata": {
            "needs_background": "light"
          }
        }
      ]
    },
    {
      "cell_type": "code",
      "metadata": {
        "id": "IswWS4-Iqr8p"
      },
      "source": [
        "# TASKS: Repeat the above analysis for the most recent weekend. You can do this by repeating\n",
        "# the code above, making the appropriate changes or you can just modify the first code cell\n",
        "# and re-run all the cells to this point.\n",
        "\n",
        "import pandas as pd\n",
        "\n",
        "tables1 = pd.read_html(\"https://www.boxofficemojo.com/weekend/2021W41/?ref_=bo_we_nav\")"
      ],
      "execution_count": null,
      "outputs": []
    },
    {
      "cell_type": "code",
      "metadata": {
        "id": "WZ_ZJfp8MJMi",
        "colab": {
          "base_uri": "https://localhost:8080/"
        },
        "outputId": "473a94bd-6ae3-4fcb-aae8-b6ac6cb94973"
      },
      "source": [
        "#  Read the tables from the web and determine how many tables there are\n",
        "\n",
        "len(tables1)"
      ],
      "execution_count": null,
      "outputs": [
        {
          "output_type": "execute_result",
          "data": {
            "text/plain": [
              "1"
            ]
          },
          "metadata": {},
          "execution_count": 11
        }
      ]
    },
    {
      "cell_type": "code",
      "metadata": {
        "id": "uUoEWzzGMMqq",
        "colab": {
          "base_uri": "https://localhost:8080/",
          "height": 204
        },
        "outputId": "ee2ff860-22c5-40d0-ef81-1191bfc0f309"
      },
      "source": [
        "#  Read the first table into a dataframe called MovieOct2021 and display the last 5 movies\n",
        "\n",
        "MovieOct2021 = tables1[0]\n",
        "\n",
        "MovieOct2021.tail()"
      ],
      "execution_count": null,
      "outputs": [
        {
          "output_type": "execute_result",
          "data": {
            "text/html": [
              "<div>\n",
              "<style scoped>\n",
              "    .dataframe tbody tr th:only-of-type {\n",
              "        vertical-align: middle;\n",
              "    }\n",
              "\n",
              "    .dataframe tbody tr th {\n",
              "        vertical-align: top;\n",
              "    }\n",
              "\n",
              "    .dataframe thead th {\n",
              "        text-align: right;\n",
              "    }\n",
              "</style>\n",
              "<table border=\"1\" class=\"dataframe\">\n",
              "  <thead>\n",
              "    <tr style=\"text-align: right;\">\n",
              "      <th></th>\n",
              "      <th>Rank</th>\n",
              "      <th>LW</th>\n",
              "      <th>Release</th>\n",
              "      <th>Gross</th>\n",
              "      <th>%± LW</th>\n",
              "      <th>Theaters</th>\n",
              "      <th>Change</th>\n",
              "      <th>Average</th>\n",
              "      <th>Total Gross</th>\n",
              "      <th>Weeks</th>\n",
              "      <th>Distributor</th>\n",
              "      <th>New This Week</th>\n",
              "      <th>Estimated</th>\n",
              "    </tr>\n",
              "  </thead>\n",
              "  <tbody>\n",
              "    <tr>\n",
              "      <th>44</th>\n",
              "      <td>45</td>\n",
              "      <td>51</td>\n",
              "      <td>Little Girl</td>\n",
              "      <td>$842</td>\n",
              "      <td>-12.4%</td>\n",
              "      <td>5</td>\n",
              "      <td>+1</td>\n",
              "      <td>$168</td>\n",
              "      <td>$8,679</td>\n",
              "      <td>4</td>\n",
              "      <td>Music Box Films</td>\n",
              "      <td>False</td>\n",
              "      <td>False</td>\n",
              "    </tr>\n",
              "    <tr>\n",
              "      <th>45</th>\n",
              "      <td>46</td>\n",
              "      <td>39</td>\n",
              "      <td>The Nowhere Inn</td>\n",
              "      <td>$171</td>\n",
              "      <td>-95.3%</td>\n",
              "      <td>3</td>\n",
              "      <td>-18</td>\n",
              "      <td>$57</td>\n",
              "      <td>$53,974</td>\n",
              "      <td>4</td>\n",
              "      <td>IFC Films</td>\n",
              "      <td>False</td>\n",
              "      <td>False</td>\n",
              "    </tr>\n",
              "    <tr>\n",
              "      <th>46</th>\n",
              "      <td>47</td>\n",
              "      <td>38</td>\n",
              "      <td>Mayday</td>\n",
              "      <td>$144</td>\n",
              "      <td>-96.1%</td>\n",
              "      <td>2</td>\n",
              "      <td>-5</td>\n",
              "      <td>$72</td>\n",
              "      <td>$4,317</td>\n",
              "      <td>2</td>\n",
              "      <td>Magnolia Pictures</td>\n",
              "      <td>False</td>\n",
              "      <td>False</td>\n",
              "    </tr>\n",
              "    <tr>\n",
              "      <th>47</th>\n",
              "      <td>48</td>\n",
              "      <td>53</td>\n",
              "      <td>Swan Song</td>\n",
              "      <td>$131</td>\n",
              "      <td>-68.4%</td>\n",
              "      <td>1</td>\n",
              "      <td>-3</td>\n",
              "      <td>$131</td>\n",
              "      <td>$126,061</td>\n",
              "      <td>10</td>\n",
              "      <td>Magnolia Pictures</td>\n",
              "      <td>False</td>\n",
              "      <td>False</td>\n",
              "    </tr>\n",
              "    <tr>\n",
              "      <th>48</th>\n",
              "      <td>49</td>\n",
              "      <td>54</td>\n",
              "      <td>Ema</td>\n",
              "      <td>$63</td>\n",
              "      <td>+31.2%</td>\n",
              "      <td>1</td>\n",
              "      <td>-</td>\n",
              "      <td>$63</td>\n",
              "      <td>$52,983</td>\n",
              "      <td>9</td>\n",
              "      <td>Music Box Films</td>\n",
              "      <td>False</td>\n",
              "      <td>False</td>\n",
              "    </tr>\n",
              "  </tbody>\n",
              "</table>\n",
              "</div>"
            ],
            "text/plain": [
              "    Rank  LW          Release  ...        Distributor New This Week  Estimated\n",
              "44    45  51      Little Girl  ...    Music Box Films         False      False\n",
              "45    46  39  The Nowhere Inn  ...          IFC Films         False      False\n",
              "46    47  38           Mayday  ...  Magnolia Pictures         False      False\n",
              "47    48  53        Swan Song  ...  Magnolia Pictures         False      False\n",
              "48    49  54              Ema  ...    Music Box Films         False      False\n",
              "\n",
              "[5 rows x 13 columns]"
            ]
          },
          "metadata": {},
          "execution_count": 12
        }
      ]
    },
    {
      "cell_type": "code",
      "metadata": {
        "id": "7dpwo_xhMZSH",
        "colab": {
          "base_uri": "https://localhost:8080/"
        },
        "outputId": "5c3253aa-d540-47ba-d2bc-92b0296243a6"
      },
      "source": [
        "#  Get rid of dollar signs and commas from Gross, Average, and Total Gross.  Cast them as numeric\n",
        "\n",
        "MovieOct2021[\"Gross\"].replace('[\\$,]', '', regex=True, inplace=True)\n",
        "MovieOct2021[\"Gross\"] = MovieOct2021[\"Gross\"].apply(pd.to_numeric)\n",
        "\n",
        "# Do Total Gross too\n",
        "MovieOct2021[\"Total Gross\"].replace('[\\$,]', '', regex=True, inplace=True)\n",
        "MovieOct2021[\"Total Gross\"] = MovieOct2021[\"Total Gross\"].apply(pd.to_numeric)\n",
        "\n",
        "MovieOct2021[\"Average\"].replace('[\\$,]', '', regex=True, inplace=True)\n",
        "MovieOct2021[\"Average\"] = MovieOct2021[\"Average\"].apply(pd.to_numeric)\n",
        "\n",
        "MovieOct2021.dtypes"
      ],
      "execution_count": null,
      "outputs": [
        {
          "output_type": "execute_result",
          "data": {
            "text/plain": [
              "Rank              int64\n",
              "LW               object\n",
              "Release          object\n",
              "Gross             int64\n",
              "%± LW            object\n",
              "Theaters          int64\n",
              "Change           object\n",
              "Average           int64\n",
              "Total Gross       int64\n",
              "Weeks             int64\n",
              "Distributor      object\n",
              "New This Week      bool\n",
              "Estimated          bool\n",
              "dtype: object"
            ]
          },
          "metadata": {},
          "execution_count": 13
        }
      ]
    },
    {
      "cell_type": "code",
      "metadata": {
        "id": "RZxuOrgNQsxq",
        "colab": {
          "base_uri": "https://localhost:8080/",
          "height": 369
        },
        "outputId": "85195c2b-830f-4968-9184-ee63874ddb08"
      },
      "source": [
        "#  Prepare a scatter plot to compare Gross with Weeks.  \n",
        "# Comment on the plot i.e. do new movies make more money than those that have been out for a while\n",
        "\n",
        "\n",
        "%matplotlib inline\n",
        "import matplotlib.pyplot as plt\n",
        "import seaborn as sns\n",
        "\n",
        "sns.lmplot(x='Weeks', y='Gross', data=MovieOct2021, fit_reg=False)\n",
        "ax = plt.gca()\n",
        "ax.set_xlim(-2, 21)\n",
        "ax.set_ylabel('Weekend Gross(\\$)')\n",
        "ax.set_xlabel('Number of Weeks');"
      ],
      "execution_count": null,
      "outputs": [
        {
          "output_type": "display_data",
          "data": {
            "image/png": "[encoded data removed]",
            "text/plain": [
              "<Figure size 360x360 with 1 Axes>"
            ]
          },
          "metadata": {
            "needs_background": "light"
          }
        }
      ]
    },
    {
      "cell_type": "markdown",
      "metadata": {
        "id": "D8ruG0_lop15"
      },
      "source": [
        "From the data above it seems as though the newer the release of the movie the more money it makes. This i shown in the graph by the highest points on the graph being closer to 0 weeks than 5, 10, 15, and 20 weeks."
      ]
    },
    {
      "cell_type": "code",
      "metadata": {
        "id": "WywdNc36REiS",
        "colab": {
          "base_uri": "https://localhost:8080/",
          "height": 369
        },
        "outputId": "661a6980-6776-4451-dead-6abac70c24cb"
      },
      "source": [
        "#  Prepare a scatter plot to compare Total Gross with Weeks.  \n",
        "#  Comment on the plot i.e do movies that have been out longer make more money overall\n",
        "\n",
        "\n",
        "sns.lmplot(x='Weeks', y='Total Gross', data=MovieOct2021, fit_reg=False)\n",
        "ax = plt.gca()\n",
        "ax.set_xlim(-2, 21)\n",
        "ax.set_ylabel('Total Gross(\\$)')\n",
        "ax.set_xlabel('Number of Weeks');"
      ],
      "execution_count": null,
      "outputs": [
        {
          "output_type": "display_data",
          "data": {
            "image/png": "[encoded data removed]",
            "text/plain": [
              "<Figure size 360x360 with 1 Axes>"
            ]
          },
          "metadata": {
            "needs_background": "light"
          }
        }
      ]
    },
    {
      "cell_type": "markdown",
      "metadata": {
        "id": "yWLIxM0GpAZ1"
      },
      "source": [
        "From the above data we can conclude that the longer a movie is out the more overall money the movie will mamke."
      ]
    }
  ]
}