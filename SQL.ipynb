{
  "nbformat": 4,
  "nbformat_minor": 0,
  "metadata": {
    "kernelspec": {
      "display_name": "Python 3",
      "language": "python",
      "name": "python3"
    },
    "language_info": {
      "codemirror_mode": {
        "name": "ipython",
        "version": 3
      },
      "file_extension": ".py",
      "mimetype": "text/x-python",
      "name": "python",
      "nbconvert_exporter": "python",
      "pygments_lexer": "ipython3",
      "version": "3.6.8"
    },
    "colab": {
      "name": "SQL.ipynb",
      "provenance": [],
      "collapsed_sections": [
        "6BfEypoNgsM2"
      ]
    }
  },
  "cells": [
    {
      "cell_type": "markdown",
      "metadata": {
        "id": "C05L8iOVgsLP"
      },
      "source": [
        "# Databases \n",
        "## Gabriel Becton\n",
        "\n",
        "This notebook is based on the Berkley DS100 course notebook, available [here](http://www.ds100.org/sp18/assets/lectures/lec11/sql_introduction_part1.html)."
      ]
    },
    {
      "cell_type": "markdown",
      "metadata": {
        "id": "Y1FTDAHugsLS"
      },
      "source": [
        "# Introduction to SQL\n",
        "\n",
        "In this notebook we walk through basic SQL queries and review how to interact with SQL from Python. We will be using the [core sqlalchemy library](https://docs.sqlalchemy.org/en/latest/core/tutorial.html) as an abstraction layer on-top of the underlying database management system. We will not be using the sophisticated object relational management features available in sqlalchemy."
      ]
    },
    {
      "cell_type": "code",
      "metadata": {
        "id": "urVKGQAggsLT"
      },
      "source": [
        "import sqlalchemy"
      ],
      "execution_count": null,
      "outputs": []
    },
    {
      "cell_type": "markdown",
      "metadata": {
        "id": "X06jCmzkgsLV"
      },
      "source": [
        "## Connecting to the Database\n",
        "\n",
        "For the first part of this assignment we will create and connect to a local SQLite database that is created in your Colaboratory folder. SQLite is a simple file oriented database management \"library.\" In the following we launch a SQLite database stored in the `myfirst.db` file in the local folder."
      ]
    },
    {
      "cell_type": "code",
      "metadata": {
        "id": "im0ZhoIggsLW"
      },
      "source": [
        "# Delete the database if it already exists.\n",
        "# We want to start from scratch each time the notebook runs.\n",
        "from pathlib import Path\n",
        "dbfile = Path(\"myfirst.db\")\n",
        "if dbfile.exists():\n",
        "    dbfile.unlink()\n",
        "\n",
        "sqlite_uri = \"sqlite:///myfirst.db\"\n",
        "sqlite_engine = sqlalchemy.create_engine(sqlite_uri)"
      ],
      "execution_count": null,
      "outputs": []
    },
    {
      "cell_type": "markdown",
      "metadata": {
        "id": "8G4oKKxSgsLY"
      },
      "source": [
        "On the first call there should be no tables present in the file."
      ]
    },
    {
      "cell_type": "code",
      "metadata": {
        "id": "OPgi9eNBgsLY"
      },
      "source": [
        "sqlite_engine.table_names()"
      ],
      "execution_count": null,
      "outputs": []
    },
    {
      "cell_type": "markdown",
      "metadata": {
        "id": "PUewdo71gsLb"
      },
      "source": [
        "## Creating a Table\n",
        "\n",
        "To start, we are going to define a toy relation (a.k.a. a table), populate it with some toy data, and work through some basic SQL. First, let's create the table of students.\n",
        "\n",
        "The table contains columns:\n",
        "\n",
        "* **name**: Text and unique (Primary Key)\n",
        "* **gpa**: Float with range constraints\n",
        "* **age**: Integer\n",
        "* **dept**: Text\n",
        "* **sex**: Char (e.g., 'M', 'F')\n",
        "Note that each column has a fixed data type.\n",
        "\n",
        "**The DBMS will enforce these types as data is inserted.**\n",
        "\n",
        "Note also the definition of a primary key, as we discussed in the lecture.\n",
        "\n",
        "**The DBMS will enforce the uniqueness of values in the key columns.**"
      ]
    },
    {
      "cell_type": "code",
      "metadata": {
        "id": "5fTULu34gsLb"
      },
      "source": [
        "sql_expr = \"\"\"\n",
        "CREATE TABLE students(\n",
        "    name TEXT PRIMARY KEY, \n",
        "    gpa FLOAT CHECK (gpa >= 0.0 and gpa <= 4.0), \n",
        "    age INTEGER, \n",
        "    dept TEXT, \n",
        "    gender CHAR);\n",
        "\"\"\"\n",
        "result = sqlite_engine.execute(sql_expr)"
      ],
      "execution_count": null,
      "outputs": []
    },
    {
      "cell_type": "markdown",
      "metadata": {
        "id": "AMu802NsgsLd"
      },
      "source": [
        "The query returns a sqlalchemy `ResultProxy` object:"
      ]
    },
    {
      "cell_type": "code",
      "metadata": {
        "id": "OF4b07rZgsLd"
      },
      "source": [
        "result?\n",
        "# You can close the pop-up that results from running this cell\n",
        "# after you have examined its contents."
      ],
      "execution_count": null,
      "outputs": []
    },
    {
      "cell_type": "markdown",
      "metadata": {
        "id": "t5R-g-3TgsLf"
      },
      "source": [
        "We can check to see if the result object contains any data:"
      ]
    },
    {
      "cell_type": "code",
      "metadata": {
        "id": "yVIAV-4agsLg"
      },
      "source": [
        "result.returns_rows"
      ],
      "execution_count": null,
      "outputs": []
    },
    {
      "cell_type": "markdown",
      "metadata": {
        "id": "nt1v_TNsgsLi"
      },
      "source": [
        "## Inserting Values into the Table\n",
        "\n",
        "Now let's manually insert some values into the table. Note that:\n",
        "\n",
        "* strings in SQL must be quoted with a single quote ' character.\n",
        "* insertions need to have values in the same order as the columns in the `create table` statement!"
      ]
    },
    {
      "cell_type": "code",
      "metadata": {
        "id": "exmklYE5gsLi"
      },
      "source": [
        "sql_expr = \"\"\"\n",
        "INSERT INTO students VALUES \n",
        "  ('Sergey Brin', 2.8, 44, 'CS', 'M'),\n",
        "  ('Danah Boyd', 3.9, 40, 'CS', 'F'),\n",
        "  ('Bill Gates', 1.0, 62, 'CS', 'M'),\n",
        "  ('Hillary Mason', 4.0, 39, 'DATASCI', 'F'),\n",
        "  ('Mike Olson', 3.7, 54, 'CS', 'M'),\n",
        "  ('Mark Zuckerberg', 4.0, 33, 'CS', 'M'),\n",
        "  ('Sheryl Sandberg', 4.0, 48, 'BUSINESS', 'F'),\n",
        "  ('Susan Wojcicki', 4.0, 49, 'BUSINESS', 'F'),\n",
        "  ('Marissa Mayer', 4.0, 42, 'BUSINESS', 'F');\n",
        "\n",
        "\"\"\"\n",
        "result = sqlite_engine.execute(sql_expr)"
      ],
      "execution_count": null,
      "outputs": []
    },
    {
      "cell_type": "markdown",
      "metadata": {
        "id": "sDeYu-x7gsLk"
      },
      "source": [
        "Again we see that this query returns nothing:"
      ]
    },
    {
      "cell_type": "code",
      "metadata": {
        "id": "sw5lHNT3gsLk"
      },
      "source": [
        "result.returns_rows"
      ],
      "execution_count": null,
      "outputs": []
    },
    {
      "cell_type": "code",
      "metadata": {
        "id": "4j2NjGYagsLn"
      },
      "source": [
        "# Insert yourself into the students table as a new row.\n",
        "# Give yourself a GPA of 4.0 (hey, it's your table, why not?)\n",
        "\n",
        "sql_expr = \"\"\"\n",
        "INSERT INTO students VALUES \n",
        "  ('Gabriel Becton', 2.4, 26, 'CS', 'M');\n",
        "\n",
        "\"\"\"\n",
        "result = sqlite_engine.execute(sql_expr)"
      ],
      "execution_count": null,
      "outputs": []
    },
    {
      "cell_type": "markdown",
      "metadata": {
        "id": "PFdHBCmTgsLp"
      },
      "source": [
        "## Querying the Table\n",
        "\n",
        "Now that we have populated the table we can construct a query to extract the results."
      ]
    },
    {
      "cell_type": "code",
      "metadata": {
        "id": "l2jisPEkgsLp"
      },
      "source": [
        "sql_expr = \"\"\"\n",
        "SELECT * FROM students;\n",
        "\"\"\"\n",
        "result = sqlite_engine.execute(sql_expr)"
      ],
      "execution_count": null,
      "outputs": []
    },
    {
      "cell_type": "code",
      "metadata": {
        "id": "ml10R0TagsLr"
      },
      "source": [
        "result.returns_rows"
      ],
      "execution_count": null,
      "outputs": []
    },
    {
      "cell_type": "markdown",
      "metadata": {
        "id": "l_ac5DpLgsLt"
      },
      "source": [
        "### Iterating the Cursor\n",
        "The query returns a persistent connection in the form of a cursor which can be used to read data from the database."
      ]
    },
    {
      "cell_type": "code",
      "metadata": {
        "id": "KzsL9plAgsLt"
      },
      "source": [
        "[r for r in result.cursor]"
      ],
      "execution_count": null,
      "outputs": []
    },
    {
      "cell_type": "markdown",
      "metadata": {
        "id": "czX8O5FCgsLv"
      },
      "source": [
        "However, as we read the cursor we advance it and so it can only be used once:"
      ]
    },
    {
      "cell_type": "code",
      "metadata": {
        "id": "x6qEdVHbgsLv"
      },
      "source": [
        "[r for r in result.cursor]"
      ],
      "execution_count": null,
      "outputs": []
    },
    {
      "cell_type": "markdown",
      "metadata": {
        "id": "g1F4LMLGgsLx"
      },
      "source": [
        "### Using Pandas to Query the Database\n",
        "You can also use Pandas to query the database. Here we pass the engine (or a connection) into the [pandas.read_sql](https://pandas.pydata.org/pandas-docs/stable/generated/pandas.read_sql.html) function:"
      ]
    },
    {
      "cell_type": "code",
      "metadata": {
        "id": "yJH5gYM3gsLy"
      },
      "source": [
        "import pandas as pd\n",
        "\n",
        "sql_expr = \"\"\"\n",
        "SELECT * FROM students;\n",
        "\"\"\"\n",
        "pd.read_sql(sql_expr, sqlite_engine)"
      ],
      "execution_count": null,
      "outputs": []
    },
    {
      "cell_type": "markdown",
      "metadata": {
        "id": "gW1iGgbKgsLz"
      },
      "source": [
        "## Primary Key Integrity Constraint\n",
        "What happens if we try to insert another record with the same primary key (name)?"
      ]
    },
    {
      "cell_type": "code",
      "metadata": {
        "id": "v9BOuJ41gsL0",
        "colab": {
          "base_uri": "https://localhost:8080/"
        },
        "outputId": "c064c125-9953-4e0a-f47d-41c77fbb7ca9"
      },
      "source": [
        "sql_expr = \"\"\"\n",
        "INSERT INTO students VALUES ('Bill Gates', 4.0, 60, 'BUSINESS', 'M')\n",
        "\"\"\"\n",
        "try:\n",
        "    result = sqlite_engine.execute(sql_expr)\n",
        "except Exception as e:\n",
        "    print(e)"
      ],
      "execution_count": null,
      "outputs": [
        {
          "output_type": "stream",
          "name": "stdout",
          "text": [
            "(sqlite3.IntegrityError) UNIQUE constraint failed: students.name\n",
            "[SQL: \n",
            "INSERT INTO students VALUES ('Bill Gates', 4.0, 60, 'BUSINESS', 'M')\n",
            "]\n",
            "(Background on this error at: https://sqlalche.me/e/14/gkpj)\n"
          ]
        }
      ]
    },
    {
      "cell_type": "markdown",
      "metadata": {
        "id": "MUZYrc9rgsL2"
      },
      "source": [
        "Notice in the above block of code we use `try:` and `except Exception as e:`. This accomplishes two goals:\n",
        "\n",
        "1. This syntax catches the exception and prevents the notebook from terminating when the error occurs (we are expecting this error!)\n",
        "2. This syntax also hides the full stack trace and only shows us the important message containing the final error."
      ]
    },
    {
      "cell_type": "markdown",
      "metadata": {
        "id": "dgeQsgXUgsL2"
      },
      "source": [
        "## Saving a Dataframe to a Database\n",
        "We can also populate the database using Pandas. In the following we first obtain the Tips dataset from the seaborn visualization library as a dataframe:"
      ]
    },
    {
      "cell_type": "code",
      "metadata": {
        "id": "pQQ-DR0ygsL3"
      },
      "source": [
        "import seaborn as sns\n",
        "\n",
        "tips_df = sns.load_dataset(\"tips\")\n",
        "tips_df.head()"
      ],
      "execution_count": null,
      "outputs": []
    },
    {
      "cell_type": "markdown",
      "metadata": {
        "id": "hcEBjuN8gsL6"
      },
      "source": [
        "We can then use the `pandas.to_sql` command to put the data in our SQLlite database:"
      ]
    },
    {
      "cell_type": "code",
      "metadata": {
        "id": "MSMwIcMMgsL6"
      },
      "source": [
        "tips_df.to_sql(\"tips\", sqlite_engine)"
      ],
      "execution_count": null,
      "outputs": []
    },
    {
      "cell_type": "markdown",
      "metadata": {
        "id": "og3hRWrIgsL8"
      },
      "source": [
        "We can see that a new table has been added:"
      ]
    },
    {
      "cell_type": "code",
      "metadata": {
        "id": "mP8yre6ogsL8"
      },
      "source": [
        "sqlite_engine.table_names()"
      ],
      "execution_count": null,
      "outputs": []
    },
    {
      "cell_type": "markdown",
      "metadata": {
        "id": "magPUteagsL-"
      },
      "source": [
        "We can also query the table:"
      ]
    },
    {
      "cell_type": "code",
      "metadata": {
        "id": "7TRsGiDogsL-"
      },
      "source": [
        "sql_expr = \"\"\"\n",
        "SELECT * FROM tips\n",
        "WHERE size > 4;\n",
        "\"\"\"\n",
        "pd.read_sql(sql_expr, sqlite_engine)"
      ],
      "execution_count": null,
      "outputs": []
    },
    {
      "cell_type": "markdown",
      "metadata": {
        "id": "y5T1BHn7gsMA"
      },
      "source": [
        "## Exploring the Schema\n",
        "There is no mechanism in standard SQL to access the schema associated with each database management systems. However sqlalchemy provides a simple abstraction layer. I found the following [SQL Alchemy Quick Reference Sheet](https://www.pythonsheets.com/notes/python-sqlalchemy.html) to be very helpful."
      ]
    },
    {
      "cell_type": "code",
      "metadata": {
        "id": "pZEzGrTQgsMA"
      },
      "source": [
        "inspector = sqlalchemy.inspect(sqlite_engine)\n",
        "inspector.get_table_names()"
      ],
      "execution_count": null,
      "outputs": []
    },
    {
      "cell_type": "code",
      "metadata": {
        "id": "09_fXOMjgsMC"
      },
      "source": [
        "# Get column information\n",
        "for col in inspector.get_columns(\"students\"):\n",
        "    print(col)"
      ],
      "execution_count": null,
      "outputs": []
    },
    {
      "cell_type": "markdown",
      "metadata": {
        "id": "NifNO62-gsMD"
      },
      "source": [
        "## Dropping Tables\n",
        "The drop command is used to remove tables from the database (be carefull!):"
      ]
    },
    {
      "cell_type": "code",
      "metadata": {
        "id": "0JDw9l-7gsME"
      },
      "source": [
        "sql_expr = \"\"\"\n",
        "DROP TABLE tips;\n",
        "\"\"\"\n",
        "sqlite_engine.execute(sql_expr)"
      ],
      "execution_count": null,
      "outputs": []
    },
    {
      "cell_type": "markdown",
      "metadata": {
        "id": "nthacs6ogsMG"
      },
      "source": [
        "Notice that the tips table no longer exists:"
      ]
    },
    {
      "cell_type": "code",
      "metadata": {
        "id": "RcbMSbq3gsMH"
      },
      "source": [
        "sqlite_engine.table_names()"
      ],
      "execution_count": null,
      "outputs": []
    },
    {
      "cell_type": "markdown",
      "metadata": {
        "id": "Y2TkLyPjgsMJ"
      },
      "source": [
        "## UPDATE values\n",
        "What is Bill Gates' GPA?"
      ]
    },
    {
      "cell_type": "code",
      "metadata": {
        "id": "SNm7VoRQgsMK"
      },
      "source": [
        "sql_expr = \"\"\"\n",
        "SELECT * FROM students\n",
        "WHERE name LIKE  '%Bill%' -- SQL like regular expression\n",
        "\"\"\"\n",
        "pd.read_sql(sql_expr, sqlite_engine)"
      ],
      "execution_count": null,
      "outputs": []
    },
    {
      "cell_type": "markdown",
      "metadata": {
        "id": "u3GrupL4gsML"
      },
      "source": [
        "Wow, Bill has a low GPA let's lend him a hand."
      ]
    },
    {
      "cell_type": "code",
      "metadata": {
        "id": "NIMsMvFcgsMM"
      },
      "source": [
        "sql_expr = \"\"\"\n",
        "UPDATE students\n",
        "SET gpa = 1.0 + gpa\n",
        "WHERE LOWER(name) = 'bill gates';\n",
        "\"\"\"\n",
        "sqlite_engine.execute(sql_expr)"
      ],
      "execution_count": null,
      "outputs": []
    },
    {
      "cell_type": "markdown",
      "metadata": {
        "id": "yfKXT_FXgsMN"
      },
      "source": [
        "And let's check the table now:"
      ]
    },
    {
      "cell_type": "code",
      "metadata": {
        "id": "pquZDpNngsMO"
      },
      "source": [
        "sql_expr = \"\"\"\n",
        "SELECT * FROM students\n",
        "WHERE name LIKE  '%Bill%' -- SQL like regular expression\n",
        "\"\"\"\n",
        "pd.read_sql(sql_expr, sqlite_engine)"
      ],
      "execution_count": null,
      "outputs": []
    },
    {
      "cell_type": "markdown",
      "metadata": {
        "id": "CmxC4w7-gsMP"
      },
      "source": [
        "### Important Note\n",
        "In the update statement we decide which rows get updated based entirely on the values in each row, as checked by the where clause. **There is no notion of any information outside the values in the row**--e.g. there are no \"object identifiers\" or \"row numbers\"... everything is *just the data and only the data*."
      ]
    },
    {
      "cell_type": "code",
      "metadata": {
        "id": "lphhudn4gsMQ",
        "colab": {
          "base_uri": "https://localhost:8080/"
        },
        "outputId": "4c80154e-5900-46bd-97ac-4996847cfb41"
      },
      "source": [
        "# Two years have passed since the data in the table were\n",
        "# collected.  Update the ages to add two years.  This may take\n",
        "# two sql commands since, presumably, you entered your own age\n",
        "# correctly. Display the student data to check results.\n",
        "\n",
        "sql_expr = \"\"\"\n",
        "UPDATE students\n",
        "SET age = 2.0 + age\n",
        "\"\"\"\n",
        "sqlite_engine.execute(sql_expr)\n"
      ],
      "execution_count": null,
      "outputs": [
        {
          "output_type": "execute_result",
          "data": {
            "text/plain": [
              "<sqlalchemy.engine.cursor.LegacyCursorResult at 0x7f40fdcbe450>"
            ]
          },
          "metadata": {},
          "execution_count": 28
        }
      ]
    },
    {
      "cell_type": "code",
      "metadata": {
        "id": "bssBdxPfxSlt"
      },
      "source": [
        "# I made Blill gates age go up by 4 on accident by doing it twice. So this line of code is for puting his age to only be adde to 2 years\n",
        "sql_expr = \"\"\"\n",
        "UPDATE students\n",
        "SET age = age - 2.0\n",
        "WHERE name = 'Bill Gates';\n",
        "\"\"\"\n",
        "sqlite_engine.execute(sql_expr)\n"
      ],
      "execution_count": null,
      "outputs": []
    },
    {
      "cell_type": "code",
      "metadata": {
        "id": "8nh-jGIexrdm"
      },
      "source": [
        "# to return my age to normal\n",
        "sql_expr = \"\"\"\n",
        "UPDATE students\n",
        "SET age = age - 2.0\n",
        "WHERE name = 'Gabriel Becton';\n",
        "\"\"\"\n",
        "sqlite_engine.execute(sql_expr)"
      ],
      "execution_count": null,
      "outputs": []
    },
    {
      "cell_type": "code",
      "metadata": {
        "id": "XHRkpKIygsMS",
        "colab": {
          "base_uri": "https://localhost:8080/",
          "height": 359
        },
        "outputId": "540ae183-f142-426e-ee5a-21b3499457c3"
      },
      "source": [
        "sql_expr = \"\"\"\n",
        "SELECT * FROM students\n",
        "\"\"\"\n",
        "pd.read_sql(sql_expr, sqlite_engine)"
      ],
      "execution_count": null,
      "outputs": [
        {
          "output_type": "execute_result",
          "data": {
            "text/html": [
              "<div>\n",
              "<style scoped>\n",
              "    .dataframe tbody tr th:only-of-type {\n",
              "        vertical-align: middle;\n",
              "    }\n",
              "\n",
              "    .dataframe tbody tr th {\n",
              "        vertical-align: top;\n",
              "    }\n",
              "\n",
              "    .dataframe thead th {\n",
              "        text-align: right;\n",
              "    }\n",
              "</style>\n",
              "<table border=\"1\" class=\"dataframe\">\n",
              "  <thead>\n",
              "    <tr style=\"text-align: right;\">\n",
              "      <th></th>\n",
              "      <th>name</th>\n",
              "      <th>gpa</th>\n",
              "      <th>age</th>\n",
              "      <th>dept</th>\n",
              "      <th>gender</th>\n",
              "    </tr>\n",
              "  </thead>\n",
              "  <tbody>\n",
              "    <tr>\n",
              "      <th>0</th>\n",
              "      <td>Sergey Brin</td>\n",
              "      <td>2.8</td>\n",
              "      <td>46</td>\n",
              "      <td>CS</td>\n",
              "      <td>M</td>\n",
              "    </tr>\n",
              "    <tr>\n",
              "      <th>1</th>\n",
              "      <td>Danah Boyd</td>\n",
              "      <td>3.9</td>\n",
              "      <td>42</td>\n",
              "      <td>CS</td>\n",
              "      <td>F</td>\n",
              "    </tr>\n",
              "    <tr>\n",
              "      <th>2</th>\n",
              "      <td>Bill Gates</td>\n",
              "      <td>2.0</td>\n",
              "      <td>64</td>\n",
              "      <td>CS</td>\n",
              "      <td>M</td>\n",
              "    </tr>\n",
              "    <tr>\n",
              "      <th>3</th>\n",
              "      <td>Hillary Mason</td>\n",
              "      <td>4.0</td>\n",
              "      <td>41</td>\n",
              "      <td>DATASCI</td>\n",
              "      <td>F</td>\n",
              "    </tr>\n",
              "    <tr>\n",
              "      <th>4</th>\n",
              "      <td>Mike Olson</td>\n",
              "      <td>3.7</td>\n",
              "      <td>56</td>\n",
              "      <td>CS</td>\n",
              "      <td>M</td>\n",
              "    </tr>\n",
              "    <tr>\n",
              "      <th>5</th>\n",
              "      <td>Mark Zuckerberg</td>\n",
              "      <td>4.0</td>\n",
              "      <td>35</td>\n",
              "      <td>CS</td>\n",
              "      <td>M</td>\n",
              "    </tr>\n",
              "    <tr>\n",
              "      <th>6</th>\n",
              "      <td>Sheryl Sandberg</td>\n",
              "      <td>4.0</td>\n",
              "      <td>50</td>\n",
              "      <td>BUSINESS</td>\n",
              "      <td>F</td>\n",
              "    </tr>\n",
              "    <tr>\n",
              "      <th>7</th>\n",
              "      <td>Susan Wojcicki</td>\n",
              "      <td>4.0</td>\n",
              "      <td>51</td>\n",
              "      <td>BUSINESS</td>\n",
              "      <td>F</td>\n",
              "    </tr>\n",
              "    <tr>\n",
              "      <th>8</th>\n",
              "      <td>Marissa Mayer</td>\n",
              "      <td>4.0</td>\n",
              "      <td>44</td>\n",
              "      <td>BUSINESS</td>\n",
              "      <td>F</td>\n",
              "    </tr>\n",
              "    <tr>\n",
              "      <th>9</th>\n",
              "      <td>Gabriel Becton</td>\n",
              "      <td>2.4</td>\n",
              "      <td>26</td>\n",
              "      <td>CS</td>\n",
              "      <td>M</td>\n",
              "    </tr>\n",
              "  </tbody>\n",
              "</table>\n",
              "</div>"
            ],
            "text/plain": [
              "              name  gpa  age      dept gender\n",
              "0      Sergey Brin  2.8   46        CS      M\n",
              "1       Danah Boyd  3.9   42        CS      F\n",
              "2       Bill Gates  2.0   64        CS      M\n",
              "3    Hillary Mason  4.0   41   DATASCI      F\n",
              "4       Mike Olson  3.7   56        CS      M\n",
              "5  Mark Zuckerberg  4.0   35        CS      M\n",
              "6  Sheryl Sandberg  4.0   50  BUSINESS      F\n",
              "7   Susan Wojcicki  4.0   51  BUSINESS      F\n",
              "8    Marissa Mayer  4.0   44  BUSINESS      F\n",
              "9   Gabriel Becton  2.4   26        CS      M"
            ]
          },
          "metadata": {},
          "execution_count": 30
        }
      ]
    },
    {
      "cell_type": "markdown",
      "metadata": {
        "id": "860fwbQNgsMT"
      },
      "source": [
        "## Integrity Constraints\n",
        "The integrity constraints we imposed earlier can be used to improve data quality.\n",
        "\n",
        "Suppose Mark logged into the database and tried to give himself a 5.0?"
      ]
    },
    {
      "cell_type": "code",
      "metadata": {
        "id": "CPm4SNHqgsMU"
      },
      "source": [
        "try:\n",
        "    sql_expr = \"\"\"\n",
        "        UPDATE students\n",
        "        SET gpa = 5.0\n",
        "        WHERE LOWER(name) LIKE '%zuck%';\n",
        "        \"\"\"\n",
        "    sqlite_engine.execute(sql_expr)\n",
        "except Exception as e:\n",
        "    print(e)"
      ],
      "execution_count": null,
      "outputs": []
    },
    {
      "cell_type": "markdown",
      "metadata": {
        "id": "2HkezEJFgsMW"
      },
      "source": [
        "The above code fails. Why? (check the gpa.)"
      ]
    },
    {
      "cell_type": "markdown",
      "metadata": {
        "id": "jBA4pPDhgsMW"
      },
      "source": [
        "## Deleting Records\n",
        "We can delete rows in much the same way we update rows:"
      ]
    },
    {
      "cell_type": "code",
      "metadata": {
        "id": "2DHUZRUJgsMX"
      },
      "source": [
        "sql_expr = \"\"\"\n",
        "DELETE FROM students \n",
        "    WHERE name = 'Sergey Brin'\n",
        "\"\"\"\n",
        "sqlite_engine.execute(sql_expr)"
      ],
      "execution_count": null,
      "outputs": []
    },
    {
      "cell_type": "markdown",
      "metadata": {
        "id": "VVXJLcHCgsMY"
      },
      "source": [
        "Notice we can rerun the above command multiple times. Why?"
      ]
    },
    {
      "cell_type": "code",
      "metadata": {
        "id": "-EFej3LkgsMY"
      },
      "source": [
        "sql_expr = \"\"\"\n",
        "SELECT * FROM students;\n",
        "\"\"\"\n",
        "pd.read_sql(sql_expr, sqlite_engine)"
      ],
      "execution_count": null,
      "outputs": []
    },
    {
      "cell_type": "markdown",
      "metadata": {
        "id": "w2l1A7M5gsMa"
      },
      "source": [
        "Restoring Sergey"
      ]
    },
    {
      "cell_type": "code",
      "metadata": {
        "id": "wywmgnTWgsMa"
      },
      "source": [
        "sql_expr = \"\"\"\n",
        "INSERT INTO students VALUES\n",
        "    ('Sergey Brin', 4.0, 40, 'CS', 'M');\n",
        "\"\"\"\n",
        "sqlite_engine.execute(sql_expr)"
      ],
      "execution_count": null,
      "outputs": []
    },
    {
      "cell_type": "markdown",
      "metadata": {
        "id": "kaIXgHKbgsMb"
      },
      "source": [
        "The above computation cannot be run more than once:"
      ]
    },
    {
      "cell_type": "code",
      "metadata": {
        "id": "smxm1OGpgsMc"
      },
      "source": [
        "try:\n",
        "    sql_expr = \"\"\"\n",
        "    INSERT INTO students VALUES\n",
        "        ('Sergey Brin', 4.0, 40, 'CS', 'M');\n",
        "    \"\"\"\n",
        "    sqlite_engine.execute(sql_expr)\n",
        "except Exception as e:\n",
        "    print(e)\n"
      ],
      "execution_count": null,
      "outputs": []
    },
    {
      "cell_type": "markdown",
      "metadata": {
        "id": "mL6uuHwwgsMf"
      },
      "source": [
        "Notice that the order of the records has changed. We actually have no guarantee on where Sergey is inserted in the database."
      ]
    },
    {
      "cell_type": "code",
      "metadata": {
        "id": "939oQhEJgsMf"
      },
      "source": [
        "sql_expr = \"\"\"\n",
        "SELECT * FROM students;\n",
        "\"\"\"\n",
        "pd.read_sql(sql_expr, sqlite_engine)"
      ],
      "execution_count": null,
      "outputs": []
    },
    {
      "cell_type": "markdown",
      "metadata": {
        "id": "Nk9MSAtPgsMi"
      },
      "source": [
        "## SELECT Queries\n",
        "Now let's start looking at some slightly more interesting queries. The canonical SQL query block includes the following clauses, in the order they appear. Square brackets indicate optional clauses.\n",
        "\n",
        "```SQL\n",
        "SELECT ...\n",
        "  FROM ...\n",
        "[WHERE ...]\n",
        "[GROUP BY ...]\n",
        "[HAVING ...]\n",
        "[ORDER BY ...]\n",
        "[LIMIT ...];\n",
        "``` \n",
        "Query blocks can reference one or more tables, and be nested in various ways. Before we worry about multi-table queries or nested queries, we'll work our way through examples that exercise all of these clauses on a single table."
      ]
    },
    {
      "cell_type": "markdown",
      "metadata": {
        "id": "OeIvhTw1gsMj"
      },
      "source": [
        "### The `SELECT` LIST\n",
        "The `SELECT` list determines which columns to include in the output."
      ]
    },
    {
      "cell_type": "code",
      "metadata": {
        "id": "nwfDyKYrgsMj"
      },
      "source": [
        "sql_expr = \"\"\"\n",
        "SELECT name\n",
        "FROM students;\n",
        "\"\"\"\n",
        "pd.read_sql(sql_expr, sqlite_engine)"
      ],
      "execution_count": null,
      "outputs": []
    },
    {
      "cell_type": "code",
      "metadata": {
        "id": "Vi_u6EdlgsMk"
      },
      "source": [
        "# Output the name and department columns in the same Pandas\n",
        "# DataFrame.  Hint, multiple column names are separated by commas\n",
        "# in the SELECT part of the query.\n",
        "sql_expr = \"\"\"\n",
        "SELECT name, dept\n",
        "FROM students;\n",
        "\"\"\"\n",
        "pd.read_sql(sql_expr, sqlite_engine)\n"
      ],
      "execution_count": null,
      "outputs": []
    },
    {
      "cell_type": "markdown",
      "metadata": {
        "id": "DYIM9BdrgsMl"
      },
      "source": [
        "### Functions in the Selection List\n",
        "SQL has a wide range of functions that can be applied to each attribute in the select list. Notice that we can alias (name) the columns with `AS`. The complete list of built in PostreSQL functions is available [here](https://www.postgresql.org/docs/9.2/functions.html)."
      ]
    },
    {
      "cell_type": "code",
      "metadata": {
        "id": "OrkBd7FkgsMm"
      },
      "source": [
        "sql_expr = \"\"\"\n",
        "SELECT UPPER(name) AS n, LOWER(dept) as d, gpa/4.0 AS GPA_ratio\n",
        "FROM students;\n",
        "\"\"\"\n",
        "pd.read_sql(sql_expr, sqlite_engine)"
      ],
      "execution_count": null,
      "outputs": []
    },
    {
      "cell_type": "markdown",
      "metadata": {
        "id": "40MUqp9ugsMn"
      },
      "source": [
        "Unfortunately, sqlite has very limited functionality. However, most modern full featured database management systems will offer a rich set of transformations."
      ]
    },
    {
      "cell_type": "markdown",
      "metadata": {
        "id": "ZwW8-nuJgsMo"
      },
      "source": [
        "### Selecting Distinct Rows\n",
        "As we know, SQL is a multiset logic, preserving the meaning of the number of duplicates in query results. Sometimes, however, we don't want to keep the duplicates, we want to eliminate them. This is done simply by adding the keyword `DISTINCT` after the `SELECT` statement:"
      ]
    },
    {
      "cell_type": "code",
      "metadata": {
        "id": "yexYW2MkgsMo"
      },
      "source": [
        "sql_expr = \"\"\"\n",
        "SELECT DISTINCT dept\n",
        "FROM students;\n",
        "\"\"\"\n",
        "pd.read_sql(sql_expr, sqlite_engine)"
      ],
      "execution_count": null,
      "outputs": []
    },
    {
      "cell_type": "markdown",
      "metadata": {
        "id": "SKXRDkJrgsMq"
      },
      "source": [
        "Which rows are used when taking the distinct entries? Does it really matter?"
      ]
    },
    {
      "cell_type": "markdown",
      "metadata": {
        "id": "60xPRuxSgsMx"
      },
      "source": [
        "### The `WHERE` Clause\n",
        "The `WHERE` clause determines which rows of to include by specifying a predicate (boolean expression). Rows (tuples) that satisfy this expression are returned."
      ]
    },
    {
      "cell_type": "code",
      "metadata": {
        "id": "3THKe_FJgsMy"
      },
      "source": [
        "sql_expr = \"\"\"\n",
        "SELECT name, gpa\n",
        "FROM students\n",
        "WHERE dept = 'CS'\n",
        "\"\"\"\n",
        "pd.read_sql(sql_expr, sqlite_engine)"
      ],
      "execution_count": null,
      "outputs": []
    },
    {
      "cell_type": "markdown",
      "metadata": {
        "id": "1JhXRrrxgsM0"
      },
      "source": [
        "And of course we can specify both rows and columns explicitly. If we have a primary key, we can filter things down to even the cell level via a select list of one column, and a where clause checking equality on the primary key columns:"
      ]
    },
    {
      "cell_type": "code",
      "metadata": {
        "id": "Nl32Htd5gsM1"
      },
      "source": [
        "sql_expr = \"\"\"\n",
        "SELECT gpa\n",
        "FROM students\n",
        "WHERE name = 'Bill Gates';\n",
        "\"\"\"\n",
        "pd.read_sql(sql_expr, sqlite_engine)"
      ],
      "execution_count": null,
      "outputs": []
    },
    {
      "cell_type": "markdown",
      "metadata": {
        "id": "6BfEypoNgsM2"
      },
      "source": [
        "### SQL is Closed Over Tables!\n",
        "Note that even this \"single-celled\" response still has a uniform data type of a *relation*.\n",
        "\n",
        "SQL expressions take in tables and always produce tables. How does this compare to Pandas?\n",
        "\n",
        "Now that you can slice and dice tables into columns, rows and cells, you have enough knowledge to poke around in a database. Let's move on to skills that you'll need as a data scientist."
      ]
    },
    {
      "cell_type": "markdown",
      "metadata": {
        "id": "5Akq1jdbgsM3"
      },
      "source": [
        "## Group By Aggregation\n",
        "`GROUP BY` aggregation in SQL is a lot like the group by in Pandas. SQL provides a family of `[aggregate functions]` for use in the `select` clause. In the simplest form, queries with aggregates in the `select` clause generate a single row of output, with each aggregate function performing a summary of all the rows of input. You can have many aggregate functions in your select clause:\n",
        "\n",
        "A list of built-in aggregate functions in PostgreSQL is [here](https://www.postgresql.org/docs/current/functions-aggregate.html). In our case, the query we are looking for is as follows.\n",
        "\n",
        "In the following we compute the average GPA as well as the number of students in each department:"
      ]
    },
    {
      "cell_type": "code",
      "metadata": {
        "id": "Zl5qYEs4gsM3"
      },
      "source": [
        "sql_expr = \"\"\"\n",
        "SELECT dept, AVG(gpa) as avg_gpa, COUNT(*) as count\n",
        "FROM students\n",
        "GROUP BY dept\n",
        "\"\"\"\n",
        "pd.read_sql(sql_expr, sqlite_engine)"
      ],
      "execution_count": null,
      "outputs": []
    },
    {
      "cell_type": "markdown",
      "metadata": {
        "id": "q1tfGVe7gsM5"
      },
      "source": [
        "We can use the `HAVING` clause to apply a predicate to groups."
      ]
    },
    {
      "cell_type": "code",
      "metadata": {
        "id": "xvPKxwdogsM5"
      },
      "source": [
        "sql_expr = \"\"\"\n",
        "SELECT dept, AVG(gpa) as avg_gpa, COUNT(*)\n",
        "FROM students\n",
        "GROUP BY dept\n",
        "HAVING COUNT(*) >= 2\n",
        "\"\"\"\n",
        "pd.read_sql(sql_expr, sqlite_engine)"
      ],
      "execution_count": null,
      "outputs": []
    },
    {
      "cell_type": "code",
      "metadata": {
        "id": "gqn3feN6gsM7"
      },
      "source": [
        "sql_expr = \"\"\"\n",
        "SELECT dept, AVG(gpa) as avg_gpa, COUNT(*) as count\n",
        "FROM students\n",
        "WHERE gender = 'F'\n",
        "GROUP BY dept\n",
        "HAVING COUNT(*) >= 2\n",
        "\"\"\"\n",
        "pd.read_sql(sql_expr, sqlite_engine)"
      ],
      "execution_count": null,
      "outputs": []
    },
    {
      "cell_type": "markdown",
      "metadata": {
        "id": "pgsr9-mzgsM8"
      },
      "source": [
        "### Ordering the output\n",
        "As a nicety, SQL allows you to order your output rows, in either ascending (ASC) or descending (DESC) order of the values in columns. For example:"
      ]
    },
    {
      "cell_type": "code",
      "metadata": {
        "id": "Elsohk4GgsM8"
      },
      "source": [
        "sql_expr = \"\"\"\n",
        "SELECT *\n",
        "FROM students\n",
        "ORDER BY gpa;\n",
        "\"\"\"\n",
        "pd.read_sql(sql_expr, sqlite_engine)"
      ],
      "execution_count": null,
      "outputs": []
    },
    {
      "cell_type": "code",
      "metadata": {
        "id": "ehQBLZ1EgsM9"
      },
      "source": [
        "sql_expr = \"\"\"\n",
        "SELECT *\n",
        "FROM students\n",
        "ORDER BY gpa, age;\n",
        "\"\"\"\n",
        "pd.read_sql(sql_expr, sqlite_engine)"
      ],
      "execution_count": null,
      "outputs": []
    },
    {
      "cell_type": "code",
      "metadata": {
        "id": "ACSHkxsugsM-"
      },
      "source": [
        "# Display the names, gpa and gender of CS students\n",
        "# Order the students, first by gender, then by name \n",
        "\n",
        "sql_expr = \"\"\"\n",
        "SELECT name, gpa, gender \n",
        "FROM students\n",
        "WHERE dept = 'CS'\n",
        "ORDER BY gender, name;\n",
        "\"\"\"\n",
        "pd.read_sql(sql_expr, sqlite_engine)"
      ],
      "execution_count": null,
      "outputs": []
    },
    {
      "cell_type": "code",
      "metadata": {
        "id": "Tir1hxvqgsM_"
      },
      "source": [
        "sql_expr = \"\"\"\n",
        "SELECT *\n",
        "FROM students\n",
        "ORDER BY gpa DESC, age ASC;\n",
        "\"\"\"\n",
        "pd.read_sql(sql_expr, sqlite_engine)"
      ],
      "execution_count": null,
      "outputs": []
    },
    {
      "cell_type": "markdown",
      "metadata": {
        "id": "zentrIrbgsNA"
      },
      "source": [
        "## `LIMIT` Clause\n",
        "The limit clause limits the number of elements returned."
      ]
    },
    {
      "cell_type": "code",
      "metadata": {
        "id": "N-Z5F97ZgsNB"
      },
      "source": [
        "sql_expr = \"\"\"\n",
        "SELECT * FROM students \n",
        "LIMIT 3\n",
        "\"\"\"\n",
        "pd.read_sql(sql_expr, sqlite_engine)"
      ],
      "execution_count": null,
      "outputs": []
    },
    {
      "cell_type": "markdown",
      "metadata": {
        "id": "kPIsQ2nigsNE"
      },
      "source": [
        "**Why do we use the `LIMIT` clause?**\n",
        "\n",
        "Often the database we are querying is massive and retrieving the entire table as we are debugging the query can be costly in time and system resources. However, we should avoid using LIMIT when constructing a sample of the data.\n",
        "\n",
        "**Which elements are returned?**\n",
        "\n",
        "While this depends on the order of elements which could be arbitrary beyond anything specified by the ORDER BY clauses.\n",
        "\n",
        "**Is this a random sample?**\n",
        "\n",
        "No, be careful!\n",
        "\n",
        "### Super-Appropriate xkcd\n",
        "\n",
        "<img src=\"https://imgs.xkcd.com/comics/exploits_of_a_mom.png\">"
      ]
    }
  ]
}