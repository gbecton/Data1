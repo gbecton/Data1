{
  "nbformat": 4,
  "nbformat_minor": 0,
  "metadata": {
    "colab": {
      "name": "SQL2.ipynb",
      "provenance": [],
      "collapsed_sections": []
    },
    "kernelspec": {
      "display_name": "Python 3",
      "language": "python",
      "name": "python3"
    }
  },
  "cells": [
    {
      "cell_type": "markdown",
      "metadata": {
        "id": "4_Sno6yG57eb"
      },
      "source": [
        "# Databases SQL 2\n",
        "# Gabriel Becton\n",
        "\n",
        "In order to look at multi-table join queries, we are going to again create a simple, simple SQLite database."
      ]
    },
    {
      "cell_type": "code",
      "metadata": {
        "id": "aI4V3Xjw6ZiQ"
      },
      "source": [
        "!pip install mechanize"
      ],
      "execution_count": null,
      "outputs": []
    },
    {
      "cell_type": "code",
      "metadata": {
        "id": "zkTwpnJ857ed"
      },
      "source": [
        "import sqlalchemy"
      ],
      "execution_count": null,
      "outputs": []
    },
    {
      "cell_type": "markdown",
      "metadata": {
        "id": "R5jz72Cm57eh"
      },
      "source": [
        "The database will be stored in the file `boat_rental.db` in the local directory."
      ]
    },
    {
      "cell_type": "code",
      "metadata": {
        "id": "-avl34nn57ei"
      },
      "source": [
        "# Delete the database if it already exists.\n",
        "from pathlib import Path\n",
        "dbfile = Path(\"boat_rental.db\")\n",
        "if dbfile.exists():\n",
        "    dbfile.unlink()\n",
        "\n",
        "sqlite_uri = \"sqlite:///boat_rental.db\"\n",
        "sqlite_engine = sqlalchemy.create_engine(sqlite_uri)"
      ],
      "execution_count": null,
      "outputs": []
    },
    {
      "cell_type": "markdown",
      "metadata": {
        "id": "KqzyTIua57ek"
      },
      "source": [
        "Our boat rental buisness needs to store data in 3 tables, one holds information about the renters (sailors), a seconds holds information about the boats and the third gives details of rental transactions."
      ]
    },
    {
      "cell_type": "code",
      "metadata": {
        "id": "boLswF8d57em"
      },
      "source": [
        "sql_expr = \"\"\"\n",
        "CREATE TABLE sailors(\n",
        "    sid INTEGER PRIMARY KEY, -- Sailor ID Number\n",
        "    sname TEXT, -- Sailor Name\n",
        "    rating INTEGER, -- Sailor skill rating\n",
        "    age INTEGER); \n",
        "\n",
        "\"\"\"\n",
        "result = sqlite_engine.execute(sql_expr)"
      ],
      "execution_count": null,
      "outputs": []
    },
    {
      "cell_type": "code",
      "metadata": {
        "id": "qv4Pqk6j57eo"
      },
      "source": [
        "sql_expr = \"\"\"\n",
        "CREATE TABLE boats(\n",
        "    bid INTEGER PRIMARY KEY, -- Boat ID Number\n",
        "    bname TEXT, -- Boat Name\n",
        "    bcolor TEXT);\n",
        "\"\"\"\n",
        "result = sqlite_engine.execute(sql_expr)"
      ],
      "execution_count": null,
      "outputs": []
    },
    {
      "cell_type": "code",
      "metadata": {
        "id": "YKUlgQGu57er"
      },
      "source": [
        "sql_expr = \"\"\"\n",
        "CREATE TABLE reserves(\n",
        "    sid INTEGER,\n",
        "    bid INTEGER,\n",
        "    day DATE,\n",
        "    PRIMARY KEY(sid, bid, day),\n",
        "    FOREIGN KEY (sid) REFERENCES sailors,\n",
        "    FOREIGN KEY (bid) REFERENCES boats);\n",
        "\"\"\"\n",
        "result = sqlite_engine.execute(sql_expr)"
      ],
      "execution_count": null,
      "outputs": []
    },
    {
      "cell_type": "markdown",
      "metadata": {
        "id": "T-7xk8E757eu"
      },
      "source": [
        "Let's double-check the schema of our tables to make sure they are correct."
      ]
    },
    {
      "cell_type": "code",
      "metadata": {
        "id": "IptPeMYx57ev"
      },
      "source": [
        "inspector = sqlalchemy.inspect(sqlite_engine)\n",
        "inspector.get_table_names()"
      ],
      "execution_count": null,
      "outputs": []
    },
    {
      "cell_type": "code",
      "metadata": {
        "id": "FTiSS3F457e0"
      },
      "source": [
        "# Get column information\n",
        "print('sailors = ')\n",
        "for col in inspector.get_columns(\"sailors\"):\n",
        "    print(col)\n",
        "\n",
        "print('boats = ')\n",
        "for col in inspector.get_columns(\"boats\"):\n",
        "    print(col)\n",
        "    \n",
        "print('reserves = ')\n",
        "for col in inspector.get_columns(\"reserves\"):\n",
        "    print(col)"
      ],
      "execution_count": null,
      "outputs": []
    },
    {
      "cell_type": "markdown",
      "metadata": {
        "id": "7VqLM5lx57e4"
      },
      "source": [
        "Now let's populate our tables with data."
      ]
    },
    {
      "cell_type": "code",
      "metadata": {
        "id": "NMvRl9dL57e5"
      },
      "source": [
        "sql_expr = \"\"\"\n",
        "INSERT INTO sailors VALUES \n",
        "  (1, 'Susan', 7, 24),\n",
        "  (2, 'Jim', 2, 35),\n",
        "  (3, 'Nancy', 8, 41),\n",
        "  (4, 'Dustin', 7, 35),\n",
        "  (5, 'Lubber', 8, 50),\n",
        "  (6, 'Rusty', 10, 69);\n",
        "  \n",
        "\"\"\"\n",
        "result = sqlite_engine.execute(sql_expr)"
      ],
      "execution_count": null,
      "outputs": []
    },
    {
      "cell_type": "code",
      "metadata": {
        "id": "ZRxNupnQ57e8"
      },
      "source": [
        "sql_expr = \"\"\"\n",
        "INSERT INTO boats VALUES\n",
        "  (101, 'Nina', 'red'),\n",
        "  (102, 'Pinta', 'blue'),\n",
        "  (103, 'Santa Maria', 'red');\n",
        "\"\"\"\n",
        "result = sqlite_engine.execute(sql_expr)"
      ],
      "execution_count": null,
      "outputs": []
    },
    {
      "cell_type": "code",
      "metadata": {
        "id": "G0bz0iJa57e-"
      },
      "source": [
        "sql_expr = \"\"\"\n",
        "INSERT INTO reserves VALUES\n",
        "  (5, 102, '7/1/18'),\n",
        "  (1, 103, '7/1/18'),\n",
        "  (6, 101, '7/4/18'),\n",
        "  (3, 102, '7/5/18');\n",
        "\"\"\"\n",
        "result = sqlite_engine.execute(sql_expr)"
      ],
      "execution_count": null,
      "outputs": []
    },
    {
      "cell_type": "markdown",
      "metadata": {
        "id": "xgY0wZNs57fA"
      },
      "source": [
        "And display the information in our tables."
      ]
    },
    {
      "cell_type": "code",
      "metadata": {
        "id": "9oW9sTVF57fB",
        "colab": {
          "base_uri": "https://localhost:8080/",
          "height": 235
        },
        "outputId": "98cafbc2-df19-4ff2-8cc0-6d47b080ad57"
      },
      "source": [
        "import pandas as pd\n",
        "\n",
        "sql_expr = \"\"\"\n",
        "SELECT * FROM sailors;\n",
        "\"\"\"\n",
        "pd.read_sql(sql_expr, sqlite_engine)"
      ],
      "execution_count": null,
      "outputs": [
        {
          "output_type": "execute_result",
          "data": {
            "text/html": [
              "<div>\n",
              "<style scoped>\n",
              "    .dataframe tbody tr th:only-of-type {\n",
              "        vertical-align: middle;\n",
              "    }\n",
              "\n",
              "    .dataframe tbody tr th {\n",
              "        vertical-align: top;\n",
              "    }\n",
              "\n",
              "    .dataframe thead th {\n",
              "        text-align: right;\n",
              "    }\n",
              "</style>\n",
              "<table border=\"1\" class=\"dataframe\">\n",
              "  <thead>\n",
              "    <tr style=\"text-align: right;\">\n",
              "      <th></th>\n",
              "      <th>sid</th>\n",
              "      <th>sname</th>\n",
              "      <th>rating</th>\n",
              "      <th>age</th>\n",
              "    </tr>\n",
              "  </thead>\n",
              "  <tbody>\n",
              "    <tr>\n",
              "      <th>0</th>\n",
              "      <td>1</td>\n",
              "      <td>Susan</td>\n",
              "      <td>7</td>\n",
              "      <td>24</td>\n",
              "    </tr>\n",
              "    <tr>\n",
              "      <th>1</th>\n",
              "      <td>2</td>\n",
              "      <td>Jim</td>\n",
              "      <td>2</td>\n",
              "      <td>35</td>\n",
              "    </tr>\n",
              "    <tr>\n",
              "      <th>2</th>\n",
              "      <td>3</td>\n",
              "      <td>Nancy</td>\n",
              "      <td>8</td>\n",
              "      <td>41</td>\n",
              "    </tr>\n",
              "    <tr>\n",
              "      <th>3</th>\n",
              "      <td>4</td>\n",
              "      <td>Dustin</td>\n",
              "      <td>7</td>\n",
              "      <td>35</td>\n",
              "    </tr>\n",
              "    <tr>\n",
              "      <th>4</th>\n",
              "      <td>5</td>\n",
              "      <td>Lubber</td>\n",
              "      <td>8</td>\n",
              "      <td>50</td>\n",
              "    </tr>\n",
              "    <tr>\n",
              "      <th>5</th>\n",
              "      <td>6</td>\n",
              "      <td>Rusty</td>\n",
              "      <td>10</td>\n",
              "      <td>69</td>\n",
              "    </tr>\n",
              "  </tbody>\n",
              "</table>\n",
              "</div>"
            ],
            "text/plain": [
              "   sid   sname  rating  age\n",
              "0    1   Susan       7   24\n",
              "1    2     Jim       2   35\n",
              "2    3   Nancy       8   41\n",
              "3    4  Dustin       7   35\n",
              "4    5  Lubber       8   50\n",
              "5    6   Rusty      10   69"
            ]
          },
          "metadata": {},
          "execution_count": 12
        }
      ]
    },
    {
      "cell_type": "code",
      "metadata": {
        "id": "Z0PNhdlL57fF",
        "colab": {
          "base_uri": "https://localhost:8080/",
          "height": 142
        },
        "outputId": "0bc1fb5e-0653-47ef-c14e-25668bd3d56c"
      },
      "source": [
        "sql_expr = \"\"\"\n",
        "SELECT * FROM boats;\n",
        "\"\"\"\n",
        "pd.read_sql(sql_expr, sqlite_engine)"
      ],
      "execution_count": null,
      "outputs": [
        {
          "output_type": "execute_result",
          "data": {
            "text/html": [
              "<div>\n",
              "<style scoped>\n",
              "    .dataframe tbody tr th:only-of-type {\n",
              "        vertical-align: middle;\n",
              "    }\n",
              "\n",
              "    .dataframe tbody tr th {\n",
              "        vertical-align: top;\n",
              "    }\n",
              "\n",
              "    .dataframe thead th {\n",
              "        text-align: right;\n",
              "    }\n",
              "</style>\n",
              "<table border=\"1\" class=\"dataframe\">\n",
              "  <thead>\n",
              "    <tr style=\"text-align: right;\">\n",
              "      <th></th>\n",
              "      <th>bid</th>\n",
              "      <th>bname</th>\n",
              "      <th>bcolor</th>\n",
              "    </tr>\n",
              "  </thead>\n",
              "  <tbody>\n",
              "    <tr>\n",
              "      <th>0</th>\n",
              "      <td>101</td>\n",
              "      <td>Nina</td>\n",
              "      <td>red</td>\n",
              "    </tr>\n",
              "    <tr>\n",
              "      <th>1</th>\n",
              "      <td>102</td>\n",
              "      <td>Pinta</td>\n",
              "      <td>blue</td>\n",
              "    </tr>\n",
              "    <tr>\n",
              "      <th>2</th>\n",
              "      <td>103</td>\n",
              "      <td>Santa Maria</td>\n",
              "      <td>red</td>\n",
              "    </tr>\n",
              "  </tbody>\n",
              "</table>\n",
              "</div>"
            ],
            "text/plain": [
              "   bid        bname bcolor\n",
              "0  101         Nina    red\n",
              "1  102        Pinta   blue\n",
              "2  103  Santa Maria    red"
            ]
          },
          "metadata": {},
          "execution_count": 13
        }
      ]
    },
    {
      "cell_type": "code",
      "metadata": {
        "id": "GBx7XVy357fJ",
        "colab": {
          "base_uri": "https://localhost:8080/",
          "height": 173
        },
        "outputId": "f716081d-5665-4f3e-d621-f813048ec404"
      },
      "source": [
        "sql_expr = \"\"\"\n",
        "SELECT * FROM reserves;\n",
        "\"\"\"\n",
        "pd.read_sql(sql_expr, sqlite_engine)"
      ],
      "execution_count": null,
      "outputs": [
        {
          "output_type": "execute_result",
          "data": {
            "text/html": [
              "<div>\n",
              "<style scoped>\n",
              "    .dataframe tbody tr th:only-of-type {\n",
              "        vertical-align: middle;\n",
              "    }\n",
              "\n",
              "    .dataframe tbody tr th {\n",
              "        vertical-align: top;\n",
              "    }\n",
              "\n",
              "    .dataframe thead th {\n",
              "        text-align: right;\n",
              "    }\n",
              "</style>\n",
              "<table border=\"1\" class=\"dataframe\">\n",
              "  <thead>\n",
              "    <tr style=\"text-align: right;\">\n",
              "      <th></th>\n",
              "      <th>sid</th>\n",
              "      <th>bid</th>\n",
              "      <th>day</th>\n",
              "    </tr>\n",
              "  </thead>\n",
              "  <tbody>\n",
              "    <tr>\n",
              "      <th>0</th>\n",
              "      <td>5</td>\n",
              "      <td>102</td>\n",
              "      <td>7/1/18</td>\n",
              "    </tr>\n",
              "    <tr>\n",
              "      <th>1</th>\n",
              "      <td>1</td>\n",
              "      <td>103</td>\n",
              "      <td>7/1/18</td>\n",
              "    </tr>\n",
              "    <tr>\n",
              "      <th>2</th>\n",
              "      <td>6</td>\n",
              "      <td>101</td>\n",
              "      <td>7/4/18</td>\n",
              "    </tr>\n",
              "    <tr>\n",
              "      <th>3</th>\n",
              "      <td>3</td>\n",
              "      <td>102</td>\n",
              "      <td>7/5/18</td>\n",
              "    </tr>\n",
              "  </tbody>\n",
              "</table>\n",
              "</div>"
            ],
            "text/plain": [
              "   sid  bid     day\n",
              "0    5  102  7/1/18\n",
              "1    1  103  7/1/18\n",
              "2    6  101  7/4/18\n",
              "3    3  102  7/5/18"
            ]
          },
          "metadata": {},
          "execution_count": 14
        }
      ]
    },
    {
      "cell_type": "markdown",
      "metadata": {
        "id": "A5ThVgNe57fN"
      },
      "source": [
        "### Make a simple, single table query\n",
        "It may be helpful to look back at the previous Lab Notebook."
      ]
    },
    {
      "cell_type": "code",
      "metadata": {
        "id": "eXelN9rQ57fO"
      },
      "source": [
        "# Perform a query of the sailors table to \n",
        "# display the names of the sailors who are of age 50\n",
        "# or older and are, therefore, eligible for your company's \n",
        "# senior discount.\n",
        "\n",
        "sql_expr = \"\"\"\n",
        "SELECT sname \n",
        "FROM sailors\n",
        "WHERE age >= 50;\n",
        "\n",
        "\"\"\"\n",
        "pd.read_sql(sql_expr, sqlite_engine)"
      ],
      "execution_count": null,
      "outputs": []
    },
    {
      "cell_type": "markdown",
      "metadata": {
        "id": "RchRHS5W57fT"
      },
      "source": [
        "## Joins\n",
        "If we want to look at information across tables, it is necessary to join them.\n",
        "\n",
        "First let's look at the the result of performing the join."
      ]
    },
    {
      "cell_type": "code",
      "metadata": {
        "id": "oPGsFqh_57fU",
        "colab": {
          "base_uri": "https://localhost:8080/",
          "height": 793
        },
        "outputId": "c76ef76a-c139-4ee8-c069-fd6f4c036c49"
      },
      "source": [
        "sql_expr = \"\"\"\n",
        "SELECT * -- all columns\n",
        "FROM reserves, sailors;\n",
        "\"\"\"\n",
        "pd.read_sql(sql_expr, sqlite_engine)"
      ],
      "execution_count": null,
      "outputs": [
        {
          "output_type": "execute_result",
          "data": {
            "text/html": [
              "<div>\n",
              "<style scoped>\n",
              "    .dataframe tbody tr th:only-of-type {\n",
              "        vertical-align: middle;\n",
              "    }\n",
              "\n",
              "    .dataframe tbody tr th {\n",
              "        vertical-align: top;\n",
              "    }\n",
              "\n",
              "    .dataframe thead th {\n",
              "        text-align: right;\n",
              "    }\n",
              "</style>\n",
              "<table border=\"1\" class=\"dataframe\">\n",
              "  <thead>\n",
              "    <tr style=\"text-align: right;\">\n",
              "      <th></th>\n",
              "      <th>sid</th>\n",
              "      <th>bid</th>\n",
              "      <th>day</th>\n",
              "      <th>sid</th>\n",
              "      <th>sname</th>\n",
              "      <th>rating</th>\n",
              "      <th>age</th>\n",
              "    </tr>\n",
              "  </thead>\n",
              "  <tbody>\n",
              "    <tr>\n",
              "      <th>0</th>\n",
              "      <td>5</td>\n",
              "      <td>102</td>\n",
              "      <td>7/1/18</td>\n",
              "      <td>1</td>\n",
              "      <td>Susan</td>\n",
              "      <td>7</td>\n",
              "      <td>24</td>\n",
              "    </tr>\n",
              "    <tr>\n",
              "      <th>1</th>\n",
              "      <td>5</td>\n",
              "      <td>102</td>\n",
              "      <td>7/1/18</td>\n",
              "      <td>2</td>\n",
              "      <td>Jim</td>\n",
              "      <td>2</td>\n",
              "      <td>35</td>\n",
              "    </tr>\n",
              "    <tr>\n",
              "      <th>2</th>\n",
              "      <td>5</td>\n",
              "      <td>102</td>\n",
              "      <td>7/1/18</td>\n",
              "      <td>3</td>\n",
              "      <td>Nancy</td>\n",
              "      <td>8</td>\n",
              "      <td>41</td>\n",
              "    </tr>\n",
              "    <tr>\n",
              "      <th>3</th>\n",
              "      <td>5</td>\n",
              "      <td>102</td>\n",
              "      <td>7/1/18</td>\n",
              "      <td>4</td>\n",
              "      <td>Dustin</td>\n",
              "      <td>7</td>\n",
              "      <td>35</td>\n",
              "    </tr>\n",
              "    <tr>\n",
              "      <th>4</th>\n",
              "      <td>5</td>\n",
              "      <td>102</td>\n",
              "      <td>7/1/18</td>\n",
              "      <td>5</td>\n",
              "      <td>Lubber</td>\n",
              "      <td>8</td>\n",
              "      <td>50</td>\n",
              "    </tr>\n",
              "    <tr>\n",
              "      <th>5</th>\n",
              "      <td>5</td>\n",
              "      <td>102</td>\n",
              "      <td>7/1/18</td>\n",
              "      <td>6</td>\n",
              "      <td>Rusty</td>\n",
              "      <td>10</td>\n",
              "      <td>69</td>\n",
              "    </tr>\n",
              "    <tr>\n",
              "      <th>6</th>\n",
              "      <td>1</td>\n",
              "      <td>103</td>\n",
              "      <td>7/1/18</td>\n",
              "      <td>1</td>\n",
              "      <td>Susan</td>\n",
              "      <td>7</td>\n",
              "      <td>24</td>\n",
              "    </tr>\n",
              "    <tr>\n",
              "      <th>7</th>\n",
              "      <td>1</td>\n",
              "      <td>103</td>\n",
              "      <td>7/1/18</td>\n",
              "      <td>2</td>\n",
              "      <td>Jim</td>\n",
              "      <td>2</td>\n",
              "      <td>35</td>\n",
              "    </tr>\n",
              "    <tr>\n",
              "      <th>8</th>\n",
              "      <td>1</td>\n",
              "      <td>103</td>\n",
              "      <td>7/1/18</td>\n",
              "      <td>3</td>\n",
              "      <td>Nancy</td>\n",
              "      <td>8</td>\n",
              "      <td>41</td>\n",
              "    </tr>\n",
              "    <tr>\n",
              "      <th>9</th>\n",
              "      <td>1</td>\n",
              "      <td>103</td>\n",
              "      <td>7/1/18</td>\n",
              "      <td>4</td>\n",
              "      <td>Dustin</td>\n",
              "      <td>7</td>\n",
              "      <td>35</td>\n",
              "    </tr>\n",
              "    <tr>\n",
              "      <th>10</th>\n",
              "      <td>1</td>\n",
              "      <td>103</td>\n",
              "      <td>7/1/18</td>\n",
              "      <td>5</td>\n",
              "      <td>Lubber</td>\n",
              "      <td>8</td>\n",
              "      <td>50</td>\n",
              "    </tr>\n",
              "    <tr>\n",
              "      <th>11</th>\n",
              "      <td>1</td>\n",
              "      <td>103</td>\n",
              "      <td>7/1/18</td>\n",
              "      <td>6</td>\n",
              "      <td>Rusty</td>\n",
              "      <td>10</td>\n",
              "      <td>69</td>\n",
              "    </tr>\n",
              "    <tr>\n",
              "      <th>12</th>\n",
              "      <td>6</td>\n",
              "      <td>101</td>\n",
              "      <td>7/4/18</td>\n",
              "      <td>1</td>\n",
              "      <td>Susan</td>\n",
              "      <td>7</td>\n",
              "      <td>24</td>\n",
              "    </tr>\n",
              "    <tr>\n",
              "      <th>13</th>\n",
              "      <td>6</td>\n",
              "      <td>101</td>\n",
              "      <td>7/4/18</td>\n",
              "      <td>2</td>\n",
              "      <td>Jim</td>\n",
              "      <td>2</td>\n",
              "      <td>35</td>\n",
              "    </tr>\n",
              "    <tr>\n",
              "      <th>14</th>\n",
              "      <td>6</td>\n",
              "      <td>101</td>\n",
              "      <td>7/4/18</td>\n",
              "      <td>3</td>\n",
              "      <td>Nancy</td>\n",
              "      <td>8</td>\n",
              "      <td>41</td>\n",
              "    </tr>\n",
              "    <tr>\n",
              "      <th>15</th>\n",
              "      <td>6</td>\n",
              "      <td>101</td>\n",
              "      <td>7/4/18</td>\n",
              "      <td>4</td>\n",
              "      <td>Dustin</td>\n",
              "      <td>7</td>\n",
              "      <td>35</td>\n",
              "    </tr>\n",
              "    <tr>\n",
              "      <th>16</th>\n",
              "      <td>6</td>\n",
              "      <td>101</td>\n",
              "      <td>7/4/18</td>\n",
              "      <td>5</td>\n",
              "      <td>Lubber</td>\n",
              "      <td>8</td>\n",
              "      <td>50</td>\n",
              "    </tr>\n",
              "    <tr>\n",
              "      <th>17</th>\n",
              "      <td>6</td>\n",
              "      <td>101</td>\n",
              "      <td>7/4/18</td>\n",
              "      <td>6</td>\n",
              "      <td>Rusty</td>\n",
              "      <td>10</td>\n",
              "      <td>69</td>\n",
              "    </tr>\n",
              "    <tr>\n",
              "      <th>18</th>\n",
              "      <td>3</td>\n",
              "      <td>102</td>\n",
              "      <td>7/5/18</td>\n",
              "      <td>1</td>\n",
              "      <td>Susan</td>\n",
              "      <td>7</td>\n",
              "      <td>24</td>\n",
              "    </tr>\n",
              "    <tr>\n",
              "      <th>19</th>\n",
              "      <td>3</td>\n",
              "      <td>102</td>\n",
              "      <td>7/5/18</td>\n",
              "      <td>2</td>\n",
              "      <td>Jim</td>\n",
              "      <td>2</td>\n",
              "      <td>35</td>\n",
              "    </tr>\n",
              "    <tr>\n",
              "      <th>20</th>\n",
              "      <td>3</td>\n",
              "      <td>102</td>\n",
              "      <td>7/5/18</td>\n",
              "      <td>3</td>\n",
              "      <td>Nancy</td>\n",
              "      <td>8</td>\n",
              "      <td>41</td>\n",
              "    </tr>\n",
              "    <tr>\n",
              "      <th>21</th>\n",
              "      <td>3</td>\n",
              "      <td>102</td>\n",
              "      <td>7/5/18</td>\n",
              "      <td>4</td>\n",
              "      <td>Dustin</td>\n",
              "      <td>7</td>\n",
              "      <td>35</td>\n",
              "    </tr>\n",
              "    <tr>\n",
              "      <th>22</th>\n",
              "      <td>3</td>\n",
              "      <td>102</td>\n",
              "      <td>7/5/18</td>\n",
              "      <td>5</td>\n",
              "      <td>Lubber</td>\n",
              "      <td>8</td>\n",
              "      <td>50</td>\n",
              "    </tr>\n",
              "    <tr>\n",
              "      <th>23</th>\n",
              "      <td>3</td>\n",
              "      <td>102</td>\n",
              "      <td>7/5/18</td>\n",
              "      <td>6</td>\n",
              "      <td>Rusty</td>\n",
              "      <td>10</td>\n",
              "      <td>69</td>\n",
              "    </tr>\n",
              "  </tbody>\n",
              "</table>\n",
              "</div>"
            ],
            "text/plain": [
              "    sid  bid     day  sid   sname  rating  age\n",
              "0     5  102  7/1/18    1   Susan       7   24\n",
              "1     5  102  7/1/18    2     Jim       2   35\n",
              "2     5  102  7/1/18    3   Nancy       8   41\n",
              "3     5  102  7/1/18    4  Dustin       7   35\n",
              "4     5  102  7/1/18    5  Lubber       8   50\n",
              "5     5  102  7/1/18    6   Rusty      10   69\n",
              "6     1  103  7/1/18    1   Susan       7   24\n",
              "7     1  103  7/1/18    2     Jim       2   35\n",
              "8     1  103  7/1/18    3   Nancy       8   41\n",
              "9     1  103  7/1/18    4  Dustin       7   35\n",
              "10    1  103  7/1/18    5  Lubber       8   50\n",
              "11    1  103  7/1/18    6   Rusty      10   69\n",
              "12    6  101  7/4/18    1   Susan       7   24\n",
              "13    6  101  7/4/18    2     Jim       2   35\n",
              "14    6  101  7/4/18    3   Nancy       8   41\n",
              "15    6  101  7/4/18    4  Dustin       7   35\n",
              "16    6  101  7/4/18    5  Lubber       8   50\n",
              "17    6  101  7/4/18    6   Rusty      10   69\n",
              "18    3  102  7/5/18    1   Susan       7   24\n",
              "19    3  102  7/5/18    2     Jim       2   35\n",
              "20    3  102  7/5/18    3   Nancy       8   41\n",
              "21    3  102  7/5/18    4  Dustin       7   35\n",
              "22    3  102  7/5/18    5  Lubber       8   50\n",
              "23    3  102  7/5/18    6   Rusty      10   69"
            ]
          },
          "metadata": {},
          "execution_count": 16
        }
      ]
    },
    {
      "cell_type": "markdown",
      "metadata": {
        "id": "gSHBChY357fZ"
      },
      "source": [
        "The rows of the join are made up of all possible combinations of the rows of reserves and sailors.  We can get the same results by explicitly using the `JOIN` argument."
      ]
    },
    {
      "cell_type": "code",
      "metadata": {
        "id": "S49tEfba57fa",
        "colab": {
          "base_uri": "https://localhost:8080/",
          "height": 793
        },
        "outputId": "adecc652-eb4e-4282-f7ee-a9698522d70f"
      },
      "source": [
        "sql_expr = \"\"\"\n",
        "SELECT * -- all columns\n",
        "FROM reserves JOIN sailors;\n",
        "\"\"\"\n",
        "pd.read_sql(sql_expr, sqlite_engine)"
      ],
      "execution_count": null,
      "outputs": [
        {
          "output_type": "execute_result",
          "data": {
            "text/html": [
              "<div>\n",
              "<style scoped>\n",
              "    .dataframe tbody tr th:only-of-type {\n",
              "        vertical-align: middle;\n",
              "    }\n",
              "\n",
              "    .dataframe tbody tr th {\n",
              "        vertical-align: top;\n",
              "    }\n",
              "\n",
              "    .dataframe thead th {\n",
              "        text-align: right;\n",
              "    }\n",
              "</style>\n",
              "<table border=\"1\" class=\"dataframe\">\n",
              "  <thead>\n",
              "    <tr style=\"text-align: right;\">\n",
              "      <th></th>\n",
              "      <th>sid</th>\n",
              "      <th>bid</th>\n",
              "      <th>day</th>\n",
              "      <th>sid</th>\n",
              "      <th>sname</th>\n",
              "      <th>rating</th>\n",
              "      <th>age</th>\n",
              "    </tr>\n",
              "  </thead>\n",
              "  <tbody>\n",
              "    <tr>\n",
              "      <th>0</th>\n",
              "      <td>5</td>\n",
              "      <td>102</td>\n",
              "      <td>7/1/18</td>\n",
              "      <td>1</td>\n",
              "      <td>Susan</td>\n",
              "      <td>7</td>\n",
              "      <td>24</td>\n",
              "    </tr>\n",
              "    <tr>\n",
              "      <th>1</th>\n",
              "      <td>5</td>\n",
              "      <td>102</td>\n",
              "      <td>7/1/18</td>\n",
              "      <td>2</td>\n",
              "      <td>Jim</td>\n",
              "      <td>2</td>\n",
              "      <td>35</td>\n",
              "    </tr>\n",
              "    <tr>\n",
              "      <th>2</th>\n",
              "      <td>5</td>\n",
              "      <td>102</td>\n",
              "      <td>7/1/18</td>\n",
              "      <td>3</td>\n",
              "      <td>Nancy</td>\n",
              "      <td>8</td>\n",
              "      <td>41</td>\n",
              "    </tr>\n",
              "    <tr>\n",
              "      <th>3</th>\n",
              "      <td>5</td>\n",
              "      <td>102</td>\n",
              "      <td>7/1/18</td>\n",
              "      <td>4</td>\n",
              "      <td>Dustin</td>\n",
              "      <td>7</td>\n",
              "      <td>35</td>\n",
              "    </tr>\n",
              "    <tr>\n",
              "      <th>4</th>\n",
              "      <td>5</td>\n",
              "      <td>102</td>\n",
              "      <td>7/1/18</td>\n",
              "      <td>5</td>\n",
              "      <td>Lubber</td>\n",
              "      <td>8</td>\n",
              "      <td>50</td>\n",
              "    </tr>\n",
              "    <tr>\n",
              "      <th>5</th>\n",
              "      <td>5</td>\n",
              "      <td>102</td>\n",
              "      <td>7/1/18</td>\n",
              "      <td>6</td>\n",
              "      <td>Rusty</td>\n",
              "      <td>10</td>\n",
              "      <td>69</td>\n",
              "    </tr>\n",
              "    <tr>\n",
              "      <th>6</th>\n",
              "      <td>1</td>\n",
              "      <td>103</td>\n",
              "      <td>7/1/18</td>\n",
              "      <td>1</td>\n",
              "      <td>Susan</td>\n",
              "      <td>7</td>\n",
              "      <td>24</td>\n",
              "    </tr>\n",
              "    <tr>\n",
              "      <th>7</th>\n",
              "      <td>1</td>\n",
              "      <td>103</td>\n",
              "      <td>7/1/18</td>\n",
              "      <td>2</td>\n",
              "      <td>Jim</td>\n",
              "      <td>2</td>\n",
              "      <td>35</td>\n",
              "    </tr>\n",
              "    <tr>\n",
              "      <th>8</th>\n",
              "      <td>1</td>\n",
              "      <td>103</td>\n",
              "      <td>7/1/18</td>\n",
              "      <td>3</td>\n",
              "      <td>Nancy</td>\n",
              "      <td>8</td>\n",
              "      <td>41</td>\n",
              "    </tr>\n",
              "    <tr>\n",
              "      <th>9</th>\n",
              "      <td>1</td>\n",
              "      <td>103</td>\n",
              "      <td>7/1/18</td>\n",
              "      <td>4</td>\n",
              "      <td>Dustin</td>\n",
              "      <td>7</td>\n",
              "      <td>35</td>\n",
              "    </tr>\n",
              "    <tr>\n",
              "      <th>10</th>\n",
              "      <td>1</td>\n",
              "      <td>103</td>\n",
              "      <td>7/1/18</td>\n",
              "      <td>5</td>\n",
              "      <td>Lubber</td>\n",
              "      <td>8</td>\n",
              "      <td>50</td>\n",
              "    </tr>\n",
              "    <tr>\n",
              "      <th>11</th>\n",
              "      <td>1</td>\n",
              "      <td>103</td>\n",
              "      <td>7/1/18</td>\n",
              "      <td>6</td>\n",
              "      <td>Rusty</td>\n",
              "      <td>10</td>\n",
              "      <td>69</td>\n",
              "    </tr>\n",
              "    <tr>\n",
              "      <th>12</th>\n",
              "      <td>6</td>\n",
              "      <td>101</td>\n",
              "      <td>7/4/18</td>\n",
              "      <td>1</td>\n",
              "      <td>Susan</td>\n",
              "      <td>7</td>\n",
              "      <td>24</td>\n",
              "    </tr>\n",
              "    <tr>\n",
              "      <th>13</th>\n",
              "      <td>6</td>\n",
              "      <td>101</td>\n",
              "      <td>7/4/18</td>\n",
              "      <td>2</td>\n",
              "      <td>Jim</td>\n",
              "      <td>2</td>\n",
              "      <td>35</td>\n",
              "    </tr>\n",
              "    <tr>\n",
              "      <th>14</th>\n",
              "      <td>6</td>\n",
              "      <td>101</td>\n",
              "      <td>7/4/18</td>\n",
              "      <td>3</td>\n",
              "      <td>Nancy</td>\n",
              "      <td>8</td>\n",
              "      <td>41</td>\n",
              "    </tr>\n",
              "    <tr>\n",
              "      <th>15</th>\n",
              "      <td>6</td>\n",
              "      <td>101</td>\n",
              "      <td>7/4/18</td>\n",
              "      <td>4</td>\n",
              "      <td>Dustin</td>\n",
              "      <td>7</td>\n",
              "      <td>35</td>\n",
              "    </tr>\n",
              "    <tr>\n",
              "      <th>16</th>\n",
              "      <td>6</td>\n",
              "      <td>101</td>\n",
              "      <td>7/4/18</td>\n",
              "      <td>5</td>\n",
              "      <td>Lubber</td>\n",
              "      <td>8</td>\n",
              "      <td>50</td>\n",
              "    </tr>\n",
              "    <tr>\n",
              "      <th>17</th>\n",
              "      <td>6</td>\n",
              "      <td>101</td>\n",
              "      <td>7/4/18</td>\n",
              "      <td>6</td>\n",
              "      <td>Rusty</td>\n",
              "      <td>10</td>\n",
              "      <td>69</td>\n",
              "    </tr>\n",
              "    <tr>\n",
              "      <th>18</th>\n",
              "      <td>3</td>\n",
              "      <td>102</td>\n",
              "      <td>7/5/18</td>\n",
              "      <td>1</td>\n",
              "      <td>Susan</td>\n",
              "      <td>7</td>\n",
              "      <td>24</td>\n",
              "    </tr>\n",
              "    <tr>\n",
              "      <th>19</th>\n",
              "      <td>3</td>\n",
              "      <td>102</td>\n",
              "      <td>7/5/18</td>\n",
              "      <td>2</td>\n",
              "      <td>Jim</td>\n",
              "      <td>2</td>\n",
              "      <td>35</td>\n",
              "    </tr>\n",
              "    <tr>\n",
              "      <th>20</th>\n",
              "      <td>3</td>\n",
              "      <td>102</td>\n",
              "      <td>7/5/18</td>\n",
              "      <td>3</td>\n",
              "      <td>Nancy</td>\n",
              "      <td>8</td>\n",
              "      <td>41</td>\n",
              "    </tr>\n",
              "    <tr>\n",
              "      <th>21</th>\n",
              "      <td>3</td>\n",
              "      <td>102</td>\n",
              "      <td>7/5/18</td>\n",
              "      <td>4</td>\n",
              "      <td>Dustin</td>\n",
              "      <td>7</td>\n",
              "      <td>35</td>\n",
              "    </tr>\n",
              "    <tr>\n",
              "      <th>22</th>\n",
              "      <td>3</td>\n",
              "      <td>102</td>\n",
              "      <td>7/5/18</td>\n",
              "      <td>5</td>\n",
              "      <td>Lubber</td>\n",
              "      <td>8</td>\n",
              "      <td>50</td>\n",
              "    </tr>\n",
              "    <tr>\n",
              "      <th>23</th>\n",
              "      <td>3</td>\n",
              "      <td>102</td>\n",
              "      <td>7/5/18</td>\n",
              "      <td>6</td>\n",
              "      <td>Rusty</td>\n",
              "      <td>10</td>\n",
              "      <td>69</td>\n",
              "    </tr>\n",
              "  </tbody>\n",
              "</table>\n",
              "</div>"
            ],
            "text/plain": [
              "    sid  bid     day  sid   sname  rating  age\n",
              "0     5  102  7/1/18    1   Susan       7   24\n",
              "1     5  102  7/1/18    2     Jim       2   35\n",
              "2     5  102  7/1/18    3   Nancy       8   41\n",
              "3     5  102  7/1/18    4  Dustin       7   35\n",
              "4     5  102  7/1/18    5  Lubber       8   50\n",
              "5     5  102  7/1/18    6   Rusty      10   69\n",
              "6     1  103  7/1/18    1   Susan       7   24\n",
              "7     1  103  7/1/18    2     Jim       2   35\n",
              "8     1  103  7/1/18    3   Nancy       8   41\n",
              "9     1  103  7/1/18    4  Dustin       7   35\n",
              "10    1  103  7/1/18    5  Lubber       8   50\n",
              "11    1  103  7/1/18    6   Rusty      10   69\n",
              "12    6  101  7/4/18    1   Susan       7   24\n",
              "13    6  101  7/4/18    2     Jim       2   35\n",
              "14    6  101  7/4/18    3   Nancy       8   41\n",
              "15    6  101  7/4/18    4  Dustin       7   35\n",
              "16    6  101  7/4/18    5  Lubber       8   50\n",
              "17    6  101  7/4/18    6   Rusty      10   69\n",
              "18    3  102  7/5/18    1   Susan       7   24\n",
              "19    3  102  7/5/18    2     Jim       2   35\n",
              "20    3  102  7/5/18    3   Nancy       8   41\n",
              "21    3  102  7/5/18    4  Dustin       7   35\n",
              "22    3  102  7/5/18    5  Lubber       8   50\n",
              "23    3  102  7/5/18    6   Rusty      10   69"
            ]
          },
          "metadata": {},
          "execution_count": 17
        }
      ]
    },
    {
      "cell_type": "markdown",
      "metadata": {
        "id": "OHak9V7157fd"
      },
      "source": [
        "### Natural/Inner Join\n",
        "We will often want to join tables on an attribute that is shared accross tables.  For example, it makes sense to perform a join on sid for the reserves and sailors tables so that we are seeing reservation information for each sailor.  A natural or inner join only displays join rows where the join key (sid) is shared.  The following queries are all equivalent."
      ]
    },
    {
      "cell_type": "code",
      "metadata": {
        "id": "IUl6yGGn57fe",
        "colab": {
          "base_uri": "https://localhost:8080/",
          "height": 173
        },
        "outputId": "d8c5b753-0981-4b05-bcb0-f42b5d3c35ef"
      },
      "source": [
        "sql_expr = \"\"\"\n",
        "SELECT *\n",
        "FROM reserves AS r, sailors AS s\n",
        "WHERE r.sid = s.sid\n",
        "\"\"\"\n",
        "pd.read_sql(sql_expr, sqlite_engine)"
      ],
      "execution_count": null,
      "outputs": [
        {
          "output_type": "execute_result",
          "data": {
            "text/html": [
              "<div>\n",
              "<style scoped>\n",
              "    .dataframe tbody tr th:only-of-type {\n",
              "        vertical-align: middle;\n",
              "    }\n",
              "\n",
              "    .dataframe tbody tr th {\n",
              "        vertical-align: top;\n",
              "    }\n",
              "\n",
              "    .dataframe thead th {\n",
              "        text-align: right;\n",
              "    }\n",
              "</style>\n",
              "<table border=\"1\" class=\"dataframe\">\n",
              "  <thead>\n",
              "    <tr style=\"text-align: right;\">\n",
              "      <th></th>\n",
              "      <th>sid</th>\n",
              "      <th>bid</th>\n",
              "      <th>day</th>\n",
              "      <th>sid</th>\n",
              "      <th>sname</th>\n",
              "      <th>rating</th>\n",
              "      <th>age</th>\n",
              "    </tr>\n",
              "  </thead>\n",
              "  <tbody>\n",
              "    <tr>\n",
              "      <th>0</th>\n",
              "      <td>5</td>\n",
              "      <td>102</td>\n",
              "      <td>7/1/18</td>\n",
              "      <td>5</td>\n",
              "      <td>Lubber</td>\n",
              "      <td>8</td>\n",
              "      <td>50</td>\n",
              "    </tr>\n",
              "    <tr>\n",
              "      <th>1</th>\n",
              "      <td>1</td>\n",
              "      <td>103</td>\n",
              "      <td>7/1/18</td>\n",
              "      <td>1</td>\n",
              "      <td>Susan</td>\n",
              "      <td>7</td>\n",
              "      <td>24</td>\n",
              "    </tr>\n",
              "    <tr>\n",
              "      <th>2</th>\n",
              "      <td>6</td>\n",
              "      <td>101</td>\n",
              "      <td>7/4/18</td>\n",
              "      <td>6</td>\n",
              "      <td>Rusty</td>\n",
              "      <td>10</td>\n",
              "      <td>69</td>\n",
              "    </tr>\n",
              "    <tr>\n",
              "      <th>3</th>\n",
              "      <td>3</td>\n",
              "      <td>102</td>\n",
              "      <td>7/5/18</td>\n",
              "      <td>3</td>\n",
              "      <td>Nancy</td>\n",
              "      <td>8</td>\n",
              "      <td>41</td>\n",
              "    </tr>\n",
              "  </tbody>\n",
              "</table>\n",
              "</div>"
            ],
            "text/plain": [
              "   sid  bid     day  sid   sname  rating  age\n",
              "0    5  102  7/1/18    5  Lubber       8   50\n",
              "1    1  103  7/1/18    1   Susan       7   24\n",
              "2    6  101  7/4/18    6   Rusty      10   69\n",
              "3    3  102  7/5/18    3   Nancy       8   41"
            ]
          },
          "metadata": {},
          "execution_count": 18
        }
      ]
    },
    {
      "cell_type": "code",
      "metadata": {
        "id": "AbRN_fzY57fh",
        "colab": {
          "base_uri": "https://localhost:8080/",
          "height": 173
        },
        "outputId": "3996e009-e03a-41a8-da07-9217dfb5638f"
      },
      "source": [
        "sql_expr = \"\"\"\n",
        "SELECT *\n",
        "FROM reserves AS r JOIN sailors AS s\n",
        "ON r.sid = s.sid\n",
        "\"\"\"\n",
        "pd.read_sql(sql_expr, sqlite_engine)"
      ],
      "execution_count": null,
      "outputs": [
        {
          "output_type": "execute_result",
          "data": {
            "text/html": [
              "<div>\n",
              "<style scoped>\n",
              "    .dataframe tbody tr th:only-of-type {\n",
              "        vertical-align: middle;\n",
              "    }\n",
              "\n",
              "    .dataframe tbody tr th {\n",
              "        vertical-align: top;\n",
              "    }\n",
              "\n",
              "    .dataframe thead th {\n",
              "        text-align: right;\n",
              "    }\n",
              "</style>\n",
              "<table border=\"1\" class=\"dataframe\">\n",
              "  <thead>\n",
              "    <tr style=\"text-align: right;\">\n",
              "      <th></th>\n",
              "      <th>sid</th>\n",
              "      <th>bid</th>\n",
              "      <th>day</th>\n",
              "      <th>sid</th>\n",
              "      <th>sname</th>\n",
              "      <th>rating</th>\n",
              "      <th>age</th>\n",
              "    </tr>\n",
              "  </thead>\n",
              "  <tbody>\n",
              "    <tr>\n",
              "      <th>0</th>\n",
              "      <td>5</td>\n",
              "      <td>102</td>\n",
              "      <td>7/1/18</td>\n",
              "      <td>5</td>\n",
              "      <td>Lubber</td>\n",
              "      <td>8</td>\n",
              "      <td>50</td>\n",
              "    </tr>\n",
              "    <tr>\n",
              "      <th>1</th>\n",
              "      <td>1</td>\n",
              "      <td>103</td>\n",
              "      <td>7/1/18</td>\n",
              "      <td>1</td>\n",
              "      <td>Susan</td>\n",
              "      <td>7</td>\n",
              "      <td>24</td>\n",
              "    </tr>\n",
              "    <tr>\n",
              "      <th>2</th>\n",
              "      <td>6</td>\n",
              "      <td>101</td>\n",
              "      <td>7/4/18</td>\n",
              "      <td>6</td>\n",
              "      <td>Rusty</td>\n",
              "      <td>10</td>\n",
              "      <td>69</td>\n",
              "    </tr>\n",
              "    <tr>\n",
              "      <th>3</th>\n",
              "      <td>3</td>\n",
              "      <td>102</td>\n",
              "      <td>7/5/18</td>\n",
              "      <td>3</td>\n",
              "      <td>Nancy</td>\n",
              "      <td>8</td>\n",
              "      <td>41</td>\n",
              "    </tr>\n",
              "  </tbody>\n",
              "</table>\n",
              "</div>"
            ],
            "text/plain": [
              "   sid  bid     day  sid   sname  rating  age\n",
              "0    5  102  7/1/18    5  Lubber       8   50\n",
              "1    1  103  7/1/18    1   Susan       7   24\n",
              "2    6  101  7/4/18    6   Rusty      10   69\n",
              "3    3  102  7/5/18    3   Nancy       8   41"
            ]
          },
          "metadata": {},
          "execution_count": 19
        }
      ]
    },
    {
      "cell_type": "code",
      "metadata": {
        "id": "EzbdXKcX57fl",
        "colab": {
          "base_uri": "https://localhost:8080/",
          "height": 173
        },
        "outputId": "765e4a3f-5c71-49bc-c9a4-9444c0c1547a"
      },
      "source": [
        "sql_expr = \"\"\"\n",
        "SELECT *\n",
        "FROM reserves r INNER JOIN sailors s -- The AS arguments are always optional\n",
        "ON r.sid = s.sid\n",
        "\"\"\"\n",
        "pd.read_sql(sql_expr, sqlite_engine)"
      ],
      "execution_count": null,
      "outputs": [
        {
          "output_type": "execute_result",
          "data": {
            "text/html": [
              "<div>\n",
              "<style scoped>\n",
              "    .dataframe tbody tr th:only-of-type {\n",
              "        vertical-align: middle;\n",
              "    }\n",
              "\n",
              "    .dataframe tbody tr th {\n",
              "        vertical-align: top;\n",
              "    }\n",
              "\n",
              "    .dataframe thead th {\n",
              "        text-align: right;\n",
              "    }\n",
              "</style>\n",
              "<table border=\"1\" class=\"dataframe\">\n",
              "  <thead>\n",
              "    <tr style=\"text-align: right;\">\n",
              "      <th></th>\n",
              "      <th>sid</th>\n",
              "      <th>bid</th>\n",
              "      <th>day</th>\n",
              "      <th>sid</th>\n",
              "      <th>sname</th>\n",
              "      <th>rating</th>\n",
              "      <th>age</th>\n",
              "    </tr>\n",
              "  </thead>\n",
              "  <tbody>\n",
              "    <tr>\n",
              "      <th>0</th>\n",
              "      <td>5</td>\n",
              "      <td>102</td>\n",
              "      <td>7/1/18</td>\n",
              "      <td>5</td>\n",
              "      <td>Lubber</td>\n",
              "      <td>8</td>\n",
              "      <td>50</td>\n",
              "    </tr>\n",
              "    <tr>\n",
              "      <th>1</th>\n",
              "      <td>1</td>\n",
              "      <td>103</td>\n",
              "      <td>7/1/18</td>\n",
              "      <td>1</td>\n",
              "      <td>Susan</td>\n",
              "      <td>7</td>\n",
              "      <td>24</td>\n",
              "    </tr>\n",
              "    <tr>\n",
              "      <th>2</th>\n",
              "      <td>6</td>\n",
              "      <td>101</td>\n",
              "      <td>7/4/18</td>\n",
              "      <td>6</td>\n",
              "      <td>Rusty</td>\n",
              "      <td>10</td>\n",
              "      <td>69</td>\n",
              "    </tr>\n",
              "    <tr>\n",
              "      <th>3</th>\n",
              "      <td>3</td>\n",
              "      <td>102</td>\n",
              "      <td>7/5/18</td>\n",
              "      <td>3</td>\n",
              "      <td>Nancy</td>\n",
              "      <td>8</td>\n",
              "      <td>41</td>\n",
              "    </tr>\n",
              "  </tbody>\n",
              "</table>\n",
              "</div>"
            ],
            "text/plain": [
              "   sid  bid     day  sid   sname  rating  age\n",
              "0    5  102  7/1/18    5  Lubber       8   50\n",
              "1    1  103  7/1/18    1   Susan       7   24\n",
              "2    6  101  7/4/18    6   Rusty      10   69\n",
              "3    3  102  7/5/18    3   Nancy       8   41"
            ]
          },
          "metadata": {},
          "execution_count": 20
        }
      ]
    },
    {
      "cell_type": "code",
      "metadata": {
        "id": "HFIf32X157fn",
        "colab": {
          "base_uri": "https://localhost:8080/",
          "height": 173
        },
        "outputId": "1a0ebe69-deb1-4cbc-f7c7-0b51580b9430"
      },
      "source": [
        "# NATURAL JOIN, unlike the others, will automatically\n",
        "# find column names both tables have in common\n",
        "sql_expr = \"\"\"\n",
        "SELECT *\n",
        "FROM reserves r NATURAL JOIN sailors s \n",
        "\"\"\"\n",
        "pd.read_sql(sql_expr, sqlite_engine)"
      ],
      "execution_count": null,
      "outputs": [
        {
          "output_type": "execute_result",
          "data": {
            "text/html": [
              "<div>\n",
              "<style scoped>\n",
              "    .dataframe tbody tr th:only-of-type {\n",
              "        vertical-align: middle;\n",
              "    }\n",
              "\n",
              "    .dataframe tbody tr th {\n",
              "        vertical-align: top;\n",
              "    }\n",
              "\n",
              "    .dataframe thead th {\n",
              "        text-align: right;\n",
              "    }\n",
              "</style>\n",
              "<table border=\"1\" class=\"dataframe\">\n",
              "  <thead>\n",
              "    <tr style=\"text-align: right;\">\n",
              "      <th></th>\n",
              "      <th>sid</th>\n",
              "      <th>bid</th>\n",
              "      <th>day</th>\n",
              "      <th>sname</th>\n",
              "      <th>rating</th>\n",
              "      <th>age</th>\n",
              "    </tr>\n",
              "  </thead>\n",
              "  <tbody>\n",
              "    <tr>\n",
              "      <th>0</th>\n",
              "      <td>5</td>\n",
              "      <td>102</td>\n",
              "      <td>7/1/18</td>\n",
              "      <td>Lubber</td>\n",
              "      <td>8</td>\n",
              "      <td>50</td>\n",
              "    </tr>\n",
              "    <tr>\n",
              "      <th>1</th>\n",
              "      <td>1</td>\n",
              "      <td>103</td>\n",
              "      <td>7/1/18</td>\n",
              "      <td>Susan</td>\n",
              "      <td>7</td>\n",
              "      <td>24</td>\n",
              "    </tr>\n",
              "    <tr>\n",
              "      <th>2</th>\n",
              "      <td>6</td>\n",
              "      <td>101</td>\n",
              "      <td>7/4/18</td>\n",
              "      <td>Rusty</td>\n",
              "      <td>10</td>\n",
              "      <td>69</td>\n",
              "    </tr>\n",
              "    <tr>\n",
              "      <th>3</th>\n",
              "      <td>3</td>\n",
              "      <td>102</td>\n",
              "      <td>7/5/18</td>\n",
              "      <td>Nancy</td>\n",
              "      <td>8</td>\n",
              "      <td>41</td>\n",
              "    </tr>\n",
              "  </tbody>\n",
              "</table>\n",
              "</div>"
            ],
            "text/plain": [
              "   sid  bid     day   sname  rating  age\n",
              "0    5  102  7/1/18  Lubber       8   50\n",
              "1    1  103  7/1/18   Susan       7   24\n",
              "2    6  101  7/4/18   Rusty      10   69\n",
              "3    3  102  7/5/18   Nancy       8   41"
            ]
          },
          "metadata": {},
          "execution_count": 21
        }
      ]
    },
    {
      "cell_type": "markdown",
      "metadata": {
        "id": "HfXgpuJH57fq"
      },
      "source": [
        "We can use natural joins to pull out information on the history of specific sailors with our company."
      ]
    },
    {
      "cell_type": "code",
      "metadata": {
        "id": "RpCAtzP457fr",
        "colab": {
          "base_uri": "https://localhost:8080/",
          "height": 142
        },
        "outputId": "176cfee5-e617-4fcf-fdf5-576aef2f8e3f"
      },
      "source": [
        "sql_expr = \"\"\"\n",
        "SELECT s.sid, s.sname, r.bid, r.day\n",
        "FROM reserves r, sailors s\n",
        "WHERE r.sid = s.sid\n",
        "AND s.age >= 30\n",
        "ORDER BY s.sname\n",
        "\"\"\"\n",
        "pd.read_sql(sql_expr, sqlite_engine)"
      ],
      "execution_count": null,
      "outputs": [
        {
          "output_type": "execute_result",
          "data": {
            "text/html": [
              "<div>\n",
              "<style scoped>\n",
              "    .dataframe tbody tr th:only-of-type {\n",
              "        vertical-align: middle;\n",
              "    }\n",
              "\n",
              "    .dataframe tbody tr th {\n",
              "        vertical-align: top;\n",
              "    }\n",
              "\n",
              "    .dataframe thead th {\n",
              "        text-align: right;\n",
              "    }\n",
              "</style>\n",
              "<table border=\"1\" class=\"dataframe\">\n",
              "  <thead>\n",
              "    <tr style=\"text-align: right;\">\n",
              "      <th></th>\n",
              "      <th>sid</th>\n",
              "      <th>sname</th>\n",
              "      <th>bid</th>\n",
              "      <th>day</th>\n",
              "    </tr>\n",
              "  </thead>\n",
              "  <tbody>\n",
              "    <tr>\n",
              "      <th>0</th>\n",
              "      <td>5</td>\n",
              "      <td>Lubber</td>\n",
              "      <td>102</td>\n",
              "      <td>7/1/18</td>\n",
              "    </tr>\n",
              "    <tr>\n",
              "      <th>1</th>\n",
              "      <td>3</td>\n",
              "      <td>Nancy</td>\n",
              "      <td>102</td>\n",
              "      <td>7/5/18</td>\n",
              "    </tr>\n",
              "    <tr>\n",
              "      <th>2</th>\n",
              "      <td>6</td>\n",
              "      <td>Rusty</td>\n",
              "      <td>101</td>\n",
              "      <td>7/4/18</td>\n",
              "    </tr>\n",
              "  </tbody>\n",
              "</table>\n",
              "</div>"
            ],
            "text/plain": [
              "   sid   sname  bid     day\n",
              "0    5  Lubber  102  7/1/18\n",
              "1    3   Nancy  102  7/5/18\n",
              "2    6   Rusty  101  7/4/18"
            ]
          },
          "metadata": {},
          "execution_count": 22
        }
      ]
    },
    {
      "cell_type": "markdown",
      "metadata": {
        "id": "SoTHXNYY57ft"
      },
      "source": [
        "A report on Rusty's buisness."
      ]
    },
    {
      "cell_type": "code",
      "metadata": {
        "id": "OxX12aok57fu",
        "colab": {
          "base_uri": "https://localhost:8080/",
          "height": 80
        },
        "outputId": "f69f491f-fc68-47c3-c10c-72454eb37611"
      },
      "source": [
        "sql_expr = \"\"\"\n",
        "SELECT s.sid, s.rating, r.bid, r.day\n",
        "FROM reserves r JOIN sailors s\n",
        "ON r.sid = s.sid\n",
        "WHERE s.sname = 'Rusty'\n",
        "\"\"\"\n",
        "pd.read_sql(sql_expr, sqlite_engine)"
      ],
      "execution_count": null,
      "outputs": [
        {
          "output_type": "execute_result",
          "data": {
            "text/html": [
              "<div>\n",
              "<style scoped>\n",
              "    .dataframe tbody tr th:only-of-type {\n",
              "        vertical-align: middle;\n",
              "    }\n",
              "\n",
              "    .dataframe tbody tr th {\n",
              "        vertical-align: top;\n",
              "    }\n",
              "\n",
              "    .dataframe thead th {\n",
              "        text-align: right;\n",
              "    }\n",
              "</style>\n",
              "<table border=\"1\" class=\"dataframe\">\n",
              "  <thead>\n",
              "    <tr style=\"text-align: right;\">\n",
              "      <th></th>\n",
              "      <th>sid</th>\n",
              "      <th>rating</th>\n",
              "      <th>bid</th>\n",
              "      <th>day</th>\n",
              "    </tr>\n",
              "  </thead>\n",
              "  <tbody>\n",
              "    <tr>\n",
              "      <th>0</th>\n",
              "      <td>6</td>\n",
              "      <td>10</td>\n",
              "      <td>101</td>\n",
              "      <td>7/4/18</td>\n",
              "    </tr>\n",
              "  </tbody>\n",
              "</table>\n",
              "</div>"
            ],
            "text/plain": [
              "   sid  rating  bid     day\n",
              "0    6      10  101  7/4/18"
            ]
          },
          "metadata": {},
          "execution_count": 23
        }
      ]
    },
    {
      "cell_type": "markdown",
      "metadata": {
        "id": "E2lFn4Gw57fx"
      },
      "source": [
        "We can also form inner joins on all 3 tables since both sailors and boats each share a column with reserves."
      ]
    },
    {
      "cell_type": "code",
      "metadata": {
        "id": "DCkJ_bD057fy",
        "colab": {
          "base_uri": "https://localhost:8080/",
          "height": 173
        },
        "outputId": "02f0cc75-a772-40aa-a93e-8c36a4d54f42"
      },
      "source": [
        "sql_expr = \"\"\"\n",
        "SELECT *\n",
        "FROM reserves r JOIN sailors s\n",
        "ON r.sid = s.sid\n",
        "JOIN boats b\n",
        "ON r.bid = b.bid\n",
        "\"\"\"\n",
        "pd.read_sql(sql_expr, sqlite_engine)"
      ],
      "execution_count": null,
      "outputs": [
        {
          "output_type": "execute_result",
          "data": {
            "text/html": [
              "<div>\n",
              "<style scoped>\n",
              "    .dataframe tbody tr th:only-of-type {\n",
              "        vertical-align: middle;\n",
              "    }\n",
              "\n",
              "    .dataframe tbody tr th {\n",
              "        vertical-align: top;\n",
              "    }\n",
              "\n",
              "    .dataframe thead th {\n",
              "        text-align: right;\n",
              "    }\n",
              "</style>\n",
              "<table border=\"1\" class=\"dataframe\">\n",
              "  <thead>\n",
              "    <tr style=\"text-align: right;\">\n",
              "      <th></th>\n",
              "      <th>sid</th>\n",
              "      <th>bid</th>\n",
              "      <th>day</th>\n",
              "      <th>sid</th>\n",
              "      <th>sname</th>\n",
              "      <th>rating</th>\n",
              "      <th>age</th>\n",
              "      <th>bid</th>\n",
              "      <th>bname</th>\n",
              "      <th>bcolor</th>\n",
              "    </tr>\n",
              "  </thead>\n",
              "  <tbody>\n",
              "    <tr>\n",
              "      <th>0</th>\n",
              "      <td>5</td>\n",
              "      <td>102</td>\n",
              "      <td>7/1/18</td>\n",
              "      <td>5</td>\n",
              "      <td>Lubber</td>\n",
              "      <td>8</td>\n",
              "      <td>50</td>\n",
              "      <td>102</td>\n",
              "      <td>Pinta</td>\n",
              "      <td>blue</td>\n",
              "    </tr>\n",
              "    <tr>\n",
              "      <th>1</th>\n",
              "      <td>1</td>\n",
              "      <td>103</td>\n",
              "      <td>7/1/18</td>\n",
              "      <td>1</td>\n",
              "      <td>Susan</td>\n",
              "      <td>7</td>\n",
              "      <td>24</td>\n",
              "      <td>103</td>\n",
              "      <td>Santa Maria</td>\n",
              "      <td>red</td>\n",
              "    </tr>\n",
              "    <tr>\n",
              "      <th>2</th>\n",
              "      <td>6</td>\n",
              "      <td>101</td>\n",
              "      <td>7/4/18</td>\n",
              "      <td>6</td>\n",
              "      <td>Rusty</td>\n",
              "      <td>10</td>\n",
              "      <td>69</td>\n",
              "      <td>101</td>\n",
              "      <td>Nina</td>\n",
              "      <td>red</td>\n",
              "    </tr>\n",
              "    <tr>\n",
              "      <th>3</th>\n",
              "      <td>3</td>\n",
              "      <td>102</td>\n",
              "      <td>7/5/18</td>\n",
              "      <td>3</td>\n",
              "      <td>Nancy</td>\n",
              "      <td>8</td>\n",
              "      <td>41</td>\n",
              "      <td>102</td>\n",
              "      <td>Pinta</td>\n",
              "      <td>blue</td>\n",
              "    </tr>\n",
              "  </tbody>\n",
              "</table>\n",
              "</div>"
            ],
            "text/plain": [
              "   sid  bid     day  sid   sname  rating  age  bid        bname bcolor\n",
              "0    5  102  7/1/18    5  Lubber       8   50  102        Pinta   blue\n",
              "1    1  103  7/1/18    1   Susan       7   24  103  Santa Maria    red\n",
              "2    6  101  7/4/18    6   Rusty      10   69  101         Nina    red\n",
              "3    3  102  7/5/18    3   Nancy       8   41  102        Pinta   blue"
            ]
          },
          "metadata": {},
          "execution_count": 24
        }
      ]
    },
    {
      "cell_type": "code",
      "metadata": {
        "id": "g5FetIL257f9"
      },
      "source": [
        "# Generate a report on the company's boats.\n",
        "# You should display the boat id number, boat name, boat color,\n",
        "# and the sailor id, name, and day the sailor rented that boat.\n",
        "\n",
        "sql_expr = \"\"\"\n",
        "SELECT s.sid, s.sname, r.day, b.bid, b.bname, b.bcolor\n",
        "FROM reserves r JOIN sailors s\n",
        "ON r.sid = s.sid\n",
        "JOIN boats b\n",
        "ON r.bid = b.bid\n",
        "\"\"\"\n",
        "pd.read_sql(sql_expr, sqlite_engine)\n"
      ],
      "execution_count": null,
      "outputs": []
    },
    {
      "cell_type": "markdown",
      "metadata": {
        "id": "H--EbjBr57gA"
      },
      "source": [
        "### Left/Right Joins\n",
        "\n",
        "Left joins will include all entries by key in the left table and fill in null values for the right table, where necessary."
      ]
    },
    {
      "cell_type": "code",
      "metadata": {
        "id": "uxhIRzWd57gB"
      },
      "source": [
        "# This returns the same information as an inner join since\n",
        "# all sid values in the reserves table have a corresponding\n",
        "# entry in the sailors table\n",
        "\n",
        "sql_expr = \"\"\"\n",
        "SELECT *\n",
        "FROM reserves r LEFT JOIN sailors s\n",
        "ON r.sid = s.sid\n",
        "\"\"\"\n",
        "pd.read_sql(sql_expr, sqlite_engine)"
      ],
      "execution_count": null,
      "outputs": []
    },
    {
      "cell_type": "code",
      "metadata": {
        "id": "fjz6sWSK57gG"
      },
      "source": [
        "# But not all sailors have rented a boat\n",
        "\n",
        "sql_expr = \"\"\"\n",
        "SELECT *\n",
        "FROM sailors s LEFT JOIN reserves r\n",
        "ON r.sid = s.sid\n",
        "\"\"\"\n",
        "pd.read_sql(sql_expr, sqlite_engine)"
      ],
      "execution_count": null,
      "outputs": []
    },
    {
      "cell_type": "markdown",
      "metadata": {
        "id": "OMMAEQIj57gU"
      },
      "source": [
        "Right joins work the same way (this time taking all rows from the right table), but SQLite does not support them.  `FULL JOIN` performs an outer join where each row of each table is represented and nulls are filled in, where appropriate.  SQLite does not support outer joins but many other SQL versions do."
      ]
    },
    {
      "cell_type": "markdown",
      "metadata": {
        "id": "CAJzAWxm57gW"
      },
      "source": [
        "## SQL Queries and NULL values\n",
        "\n",
        "As we see in the example above, left/right/outer joins can result in Null values being inserted into the resulting query result table.  \n",
        "\n",
        "It is also possible that Null values can result from missing information."
      ]
    },
    {
      "cell_type": "code",
      "metadata": {
        "id": "ASxYvGG657gW"
      },
      "source": [
        "sql_expr = \"\"\"\n",
        "INSERT INTO sailors VALUES\n",
        "  (7, 'Jack Sparrow', NULL, 35);  -- no skill rating available\n",
        "\"\"\"\n",
        "result = sqlite_engine.execute(sql_expr)\n",
        "\n",
        "sql_expr = \"\"\"\n",
        "SELECT * \n",
        "FROM sailors;\n",
        "\"\"\"\n",
        "pd.read_sql(sql_expr, sqlite_engine)"
      ],
      "execution_count": null,
      "outputs": []
    },
    {
      "cell_type": "markdown",
      "metadata": {
        "id": "iOafu4pq57gZ"
      },
      "source": [
        "The following will result in no output because any operator acting on a null value returns a null output."
      ]
    },
    {
      "cell_type": "code",
      "metadata": {
        "id": "dUn-5TSv57gb"
      },
      "source": [
        "sql_expr = \"\"\"\n",
        "SELECT *\n",
        "FROM sailors\n",
        "WHERE rating = NULL\n",
        "\"\"\"\n",
        "pd.read_sql(sql_expr, sqlite_engine)"
      ],
      "execution_count": null,
      "outputs": []
    },
    {
      "cell_type": "markdown",
      "metadata": {
        "id": "2lG40MF_57gf"
      },
      "source": [
        "Jack will also never show in a query that references the rating value."
      ]
    },
    {
      "cell_type": "code",
      "metadata": {
        "id": "w_aKlZ4o57gf"
      },
      "source": [
        "sql_expr = \"\"\"\n",
        "SELECT *\n",
        "FROM sailors\n",
        "WHERE rating < 8\n",
        "\"\"\"\n",
        "pd.read_sql(sql_expr, sqlite_engine)"
      ],
      "execution_count": null,
      "outputs": []
    },
    {
      "cell_type": "markdown",
      "metadata": {
        "id": "Os2RK-9C57gj"
      },
      "source": [
        "You must do an explicit NULL check to find null values."
      ]
    },
    {
      "cell_type": "code",
      "metadata": {
        "id": "8e9Jxh_r57gk"
      },
      "source": [
        "sql_expr = \"\"\"\n",
        "SELECT *\n",
        "FROM sailors\n",
        "WHERE rating IS NULL\n",
        "\"\"\"\n",
        "pd.read_sql(sql_expr, sqlite_engine)"
      ],
      "execution_count": null,
      "outputs": []
    },
    {
      "cell_type": "code",
      "metadata": {
        "id": "GxGhB6yo57gu"
      },
      "source": [
        "sql_expr = \"\"\"\n",
        "SELECT *\n",
        "FROM sailors\n",
        "WHERE rating IS NOT NULL\n",
        "\"\"\"\n",
        "pd.read_sql(sql_expr, sqlite_engine)"
      ],
      "execution_count": null,
      "outputs": []
    },
    {
      "cell_type": "code",
      "metadata": {
        "id": "IFG9LpXTHVuY"
      },
      "source": [
        "sql_expr = \"\"\"\n",
        "SELECT *\n",
        "FROM sailors\n",
        "\n",
        "\"\"\"\n",
        "pd.read_sql(sql_expr, sqlite_engine)"
      ],
      "execution_count": null,
      "outputs": []
    },
    {
      "cell_type": "code",
      "metadata": {
        "id": "AUrdx9AQHYyN"
      },
      "source": [
        "sql_expr = \"\"\"\n",
        "SELECT *\n",
        "FROM boats\n",
        "\n",
        "\"\"\"\n",
        "pd.read_sql(sql_expr, sqlite_engine)"
      ],
      "execution_count": null,
      "outputs": []
    },
    {
      "cell_type": "code",
      "metadata": {
        "id": "Ou6owGHiHcca"
      },
      "source": [
        "sql_expr = \"\"\"\n",
        "SELECT *\n",
        "FROM reserves\n",
        "\n",
        "\"\"\"\n",
        "pd.read_sql(sql_expr, sqlite_engine)"
      ],
      "execution_count": null,
      "outputs": []
    },
    {
      "cell_type": "code",
      "metadata": {
        "id": "VNjNNY13REJp",
        "colab": {
          "base_uri": "https://localhost:8080/",
          "height": 142
        },
        "outputId": "927ea3bd-d444-48b5-8dc8-9055f93f1c20"
      },
      "source": [
        "# Generate a report that shows the ID, Name, and Age of all sailors who \n",
        "#         never rented a boat\n",
        "\n",
        "sql_expr = \"\"\"\n",
        "SELECT s.sid, s.sname, s.age\n",
        "FROM sailors s LEFT JOIN reserves r\n",
        "ON r.sid = s.sid\n",
        "WHERE bid IS NULL\n",
        "\"\"\"\n",
        "pd.read_sql(sql_expr, sqlite_engine)\n"
      ],
      "execution_count": null,
      "outputs": [
        {
          "output_type": "execute_result",
          "data": {
            "text/html": [
              "<div>\n",
              "<style scoped>\n",
              "    .dataframe tbody tr th:only-of-type {\n",
              "        vertical-align: middle;\n",
              "    }\n",
              "\n",
              "    .dataframe tbody tr th {\n",
              "        vertical-align: top;\n",
              "    }\n",
              "\n",
              "    .dataframe thead th {\n",
              "        text-align: right;\n",
              "    }\n",
              "</style>\n",
              "<table border=\"1\" class=\"dataframe\">\n",
              "  <thead>\n",
              "    <tr style=\"text-align: right;\">\n",
              "      <th></th>\n",
              "      <th>sid</th>\n",
              "      <th>sname</th>\n",
              "      <th>age</th>\n",
              "    </tr>\n",
              "  </thead>\n",
              "  <tbody>\n",
              "    <tr>\n",
              "      <th>0</th>\n",
              "      <td>2</td>\n",
              "      <td>Jim</td>\n",
              "      <td>35</td>\n",
              "    </tr>\n",
              "    <tr>\n",
              "      <th>1</th>\n",
              "      <td>4</td>\n",
              "      <td>Dustin</td>\n",
              "      <td>35</td>\n",
              "    </tr>\n",
              "    <tr>\n",
              "      <th>2</th>\n",
              "      <td>7</td>\n",
              "      <td>Jack Sparrow</td>\n",
              "      <td>35</td>\n",
              "    </tr>\n",
              "  </tbody>\n",
              "</table>\n",
              "</div>"
            ],
            "text/plain": [
              "   sid         sname  age\n",
              "0    2           Jim   35\n",
              "1    4        Dustin   35\n",
              "2    7  Jack Sparrow   35"
            ]
          },
          "metadata": {},
          "execution_count": 40
        }
      ]
    }
  ]
}