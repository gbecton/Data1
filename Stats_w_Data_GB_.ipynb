{
  "nbformat": 4,
  "nbformat_minor": 0,
  "metadata": {
    "kernelspec": {
      "display_name": "Python 3",
      "language": "python",
      "name": "python3"
    },
    "language_info": {
      "codemirror_mode": {
        "name": "ipython",
        "version": 3
      },
      "file_extension": ".py",
      "mimetype": "text/x-python",
      "name": "python",
      "nbconvert_exporter": "python",
      "pygments_lexer": "ipython3",
      "version": "3.7.2"
    },
    "colab": {
      "name": "Stats w/ Data_GB .ipynb",
      "provenance": [],
      "collapsed_sections": []
    }
  },
  "cells": [
    {
      "cell_type": "markdown",
      "metadata": {
        "id": "rp14NYa7etFL"
      },
      "source": [
        "# Linear Algebra & Statistics 1\n",
        "# Gabriel Becton\n",
        "\n",
        "Today we will be using the numpy module to do do some basic statistics on vectors"
      ]
    },
    {
      "cell_type": "code",
      "metadata": {
        "id": "r10XZ_JDetFN"
      },
      "source": [
        "# import the usual suspects\n",
        "\n",
        "%matplotlib inline\n",
        "import numpy as np\n",
        "import matplotlib.pyplot as plt"
      ],
      "execution_count": null,
      "outputs": []
    },
    {
      "cell_type": "markdown",
      "metadata": {
        "id": "zB30PPKvetGN"
      },
      "source": [
        "# Statistics\n",
        "\n",
        "Statistics allow us to summarize data in informative ways.\n",
        "\n",
        "We will apply our statistics measures to the heights of presidents.  There is a table of the U.S. presidents and their heights at [this website](https://www.potus.com/presidential-facts/presidential-heights/)\n",
        "\n",
        "We will use pandas to retrieve and read the table."
      ]
    },
    {
      "cell_type": "code",
      "metadata": {
        "id": "mS7PYo-uetGQ"
      },
      "source": [
        "import pandas as pd\n",
        "\n",
        "tables = pd.read_html(\"https://www.potus.com/presidential-facts/presidential-heights/\")"
      ],
      "execution_count": null,
      "outputs": []
    },
    {
      "cell_type": "markdown",
      "metadata": {
        "id": "pY0Ew9W4etGS"
      },
      "source": [
        "How many tables did we get?"
      ]
    },
    {
      "cell_type": "code",
      "metadata": {
        "id": "lteKN15ietGT"
      },
      "source": [
        "len(tables)"
      ],
      "execution_count": null,
      "outputs": []
    },
    {
      "cell_type": "code",
      "metadata": {
        "id": "yimZa796etGU"
      },
      "source": [
        "prezzyheights = tables[0]\n",
        "prezzyheights.head()"
      ],
      "execution_count": null,
      "outputs": []
    },
    {
      "cell_type": "markdown",
      "metadata": {
        "id": "JXKQXlQDetGW"
      },
      "source": [
        "Let's sort our DataFrame by # so the presidents are listed in historical order."
      ]
    },
    {
      "cell_type": "code",
      "metadata": {
        "id": "CiY-jCcLetGW",
        "colab": {
          "base_uri": "https://localhost:8080/",
          "height": 206
        },
        "outputId": "05819818-ed06-4ef2-8825-20ec8ac13f25"
      },
      "source": [
        "prezzyheights.sort_values(\"#\", inplace=True) #inplace=True changes the DataFrame permanently\n",
        "prezzyheights.head()"
      ],
      "execution_count": null,
      "outputs": [
        {
          "output_type": "execute_result",
          "data": {
            "text/html": [
              "<div>\n",
              "<style scoped>\n",
              "    .dataframe tbody tr th:only-of-type {\n",
              "        vertical-align: middle;\n",
              "    }\n",
              "\n",
              "    .dataframe tbody tr th {\n",
              "        vertical-align: top;\n",
              "    }\n",
              "\n",
              "    .dataframe thead th {\n",
              "        text-align: right;\n",
              "    }\n",
              "</style>\n",
              "<table border=\"1\" class=\"dataframe\">\n",
              "  <thead>\n",
              "    <tr style=\"text-align: right;\">\n",
              "      <th></th>\n",
              "      <th>Rank</th>\n",
              "      <th>#</th>\n",
              "      <th>President</th>\n",
              "      <th>Height (in)</th>\n",
              "      <th>Height (cm)</th>\n",
              "    </tr>\n",
              "  </thead>\n",
              "  <tbody>\n",
              "    <tr>\n",
              "      <th>4</th>\n",
              "      <td>5</td>\n",
              "      <td>1</td>\n",
              "      <td>George Washington</td>\n",
              "      <td>6 ft 2 in</td>\n",
              "      <td>188 cm</td>\n",
              "    </tr>\n",
              "    <tr>\n",
              "      <th>14</th>\n",
              "      <td>14</td>\n",
              "      <td>10</td>\n",
              "      <td>John Tyler</td>\n",
              "      <td>6 ft 0 in</td>\n",
              "      <td>183 cm</td>\n",
              "    </tr>\n",
              "    <tr>\n",
              "      <th>36</th>\n",
              "      <td>36</td>\n",
              "      <td>11</td>\n",
              "      <td>James K. Polk</td>\n",
              "      <td>5 ft 8 in</td>\n",
              "      <td>173 cm</td>\n",
              "    </tr>\n",
              "    <tr>\n",
              "      <th>37</th>\n",
              "      <td>36</td>\n",
              "      <td>12</td>\n",
              "      <td>Zachary Taylor</td>\n",
              "      <td>5 ft 8 in</td>\n",
              "      <td>173 cm</td>\n",
              "    </tr>\n",
              "    <tr>\n",
              "      <th>32</th>\n",
              "      <td>33</td>\n",
              "      <td>13</td>\n",
              "      <td>Millard Fillmore</td>\n",
              "      <td>5 ft 9 in</td>\n",
              "      <td>175 cm</td>\n",
              "    </tr>\n",
              "  </tbody>\n",
              "</table>\n",
              "</div>"
            ],
            "text/plain": [
              "    Rank   #          President Height (in) Height (cm)\n",
              "4      5   1  George Washington   6 ft 2 in      188 cm\n",
              "14    14  10         John Tyler   6 ft 0 in      183 cm\n",
              "36    36  11      James K. Polk   5 ft 8 in      173 cm\n",
              "37    36  12     Zachary Taylor   5 ft 8 in      173 cm\n",
              "32    33  13   Millard Fillmore   5 ft 9 in      175 cm"
            ]
          },
          "metadata": {},
          "execution_count": 5
        }
      ]
    },
    {
      "cell_type": "markdown",
      "metadata": {
        "id": "iVp-MvQRetGY"
      },
      "source": [
        "Hmm. Something went wrong there.  It looks like the values that we are sorting are strings instead of numbers so 1 is followed by 10 instead of 2.  We will have to do more work"
      ]
    },
    {
      "cell_type": "code",
      "metadata": {
        "id": "ls8VfNJ-etGZ"
      },
      "source": [
        "prezzyheights[\"#\"] = pd.to_numeric(prezzyheights[\"#\"])\n",
        "prezzyheights.sort_values(\"#\", inplace=True)\n",
        "prezzyheights.head()"
      ],
      "execution_count": null,
      "outputs": []
    },
    {
      "cell_type": "markdown",
      "metadata": {
        "id": "hbgqLNP0etGa"
      },
      "source": [
        "UGH!  Grover Clevelend was the 22nd **and** the 24th president!  We don't want to double-count him anyway.  Let's just call him the 22nd president."
      ]
    },
    {
      "cell_type": "code",
      "metadata": {
        "id": "Vx1SwALHetGc"
      },
      "source": [
        "prezzyheights.loc[prezzyheights[\"President\"] == \"Grover Cleveland\",\"#\"] = '22'\n",
        "prezzyheights[\"#\"] = pd.to_numeric(prezzyheights[\"#\"])\n",
        "prezzyheights.sort_values(\"#\", inplace=True)\n",
        "prezzyheights.reset_index(drop=True)\n",
        "prezzyheights.head()"
      ],
      "execution_count": null,
      "outputs": []
    },
    {
      "cell_type": "markdown",
      "metadata": {
        "id": "HhtvLhTZetGe"
      },
      "source": [
        "We will also need to change that height data to get rid of the cm and convert to numeric."
      ]
    },
    {
      "cell_type": "code",
      "metadata": {
        "id": "zCVXZG40etGe",
        "colab": {
          "base_uri": "https://localhost:8080/",
          "height": 206
        },
        "outputId": "2ac10a1e-4cda-4417-8069-58d57395d974"
      },
      "source": [
        "prezzyheights[\"Height (cm)\"] = pd.to_numeric(prezzyheights[\"Height (cm)\"].str.extract('(\\d+)', expand=False))\n",
        "prezzyheights.head()"
      ],
      "execution_count": null,
      "outputs": [
        {
          "output_type": "execute_result",
          "data": {
            "text/html": [
              "<div>\n",
              "<style scoped>\n",
              "    .dataframe tbody tr th:only-of-type {\n",
              "        vertical-align: middle;\n",
              "    }\n",
              "\n",
              "    .dataframe tbody tr th {\n",
              "        vertical-align: top;\n",
              "    }\n",
              "\n",
              "    .dataframe thead th {\n",
              "        text-align: right;\n",
              "    }\n",
              "</style>\n",
              "<table border=\"1\" class=\"dataframe\">\n",
              "  <thead>\n",
              "    <tr style=\"text-align: right;\">\n",
              "      <th></th>\n",
              "      <th>Rank</th>\n",
              "      <th>#</th>\n",
              "      <th>President</th>\n",
              "      <th>Height (in)</th>\n",
              "      <th>Height (cm)</th>\n",
              "    </tr>\n",
              "  </thead>\n",
              "  <tbody>\n",
              "    <tr>\n",
              "      <th>4</th>\n",
              "      <td>5</td>\n",
              "      <td>1</td>\n",
              "      <td>George Washington</td>\n",
              "      <td>6 ft 2 in</td>\n",
              "      <td>188</td>\n",
              "    </tr>\n",
              "    <tr>\n",
              "      <th>40</th>\n",
              "      <td>41</td>\n",
              "      <td>2</td>\n",
              "      <td>John Adams</td>\n",
              "      <td>5 ft 7 in</td>\n",
              "      <td>170</td>\n",
              "    </tr>\n",
              "    <tr>\n",
              "      <th>3</th>\n",
              "      <td>4</td>\n",
              "      <td>3</td>\n",
              "      <td>Thomas Jefferson</td>\n",
              "      <td>6 ft 2.5 in</td>\n",
              "      <td>189</td>\n",
              "    </tr>\n",
              "    <tr>\n",
              "      <th>44</th>\n",
              "      <td>45</td>\n",
              "      <td>4</td>\n",
              "      <td>James Madison</td>\n",
              "      <td>5 ft 4 in</td>\n",
              "      <td>163</td>\n",
              "    </tr>\n",
              "    <tr>\n",
              "      <th>13</th>\n",
              "      <td>14</td>\n",
              "      <td>5</td>\n",
              "      <td>James Monroe</td>\n",
              "      <td>6 ft 0 in</td>\n",
              "      <td>183</td>\n",
              "    </tr>\n",
              "  </tbody>\n",
              "</table>\n",
              "</div>"
            ],
            "text/plain": [
              "    Rank  #          President  Height (in)  Height (cm)\n",
              "4      5  1  George Washington    6 ft 2 in          188\n",
              "40    41  2         John Adams    5 ft 7 in          170\n",
              "3      4  3   Thomas Jefferson  6 ft 2.5 in          189\n",
              "44    45  4      James Madison    5 ft 4 in          163\n",
              "13    14  5       James Monroe    6 ft 0 in          183"
            ]
          },
          "metadata": {},
          "execution_count": 9
        }
      ]
    },
    {
      "cell_type": "markdown",
      "metadata": {
        "id": "60VM-U28etGf"
      },
      "source": [
        "Let's make some plots of our data"
      ]
    },
    {
      "cell_type": "code",
      "metadata": {
        "id": "7I3P-yGMetGg",
        "colab": {
          "base_uri": "https://localhost:8080/",
          "height": 404
        },
        "outputId": "8b336b3a-2e81-4651-f898-ddb95f30d0bd"
      },
      "source": [
        "# Make a scatter plot of height vs number\n",
        "\n",
        "fig, ax = plt.subplots(figsize=(8,6))\n",
        "\n",
        "ax.scatter(prezzyheights[\"#\"], prezzyheights[\"Height (cm)\"])\n",
        "#ax.set_xlim([-1, 30])\n",
        "ax.set_title('Presidential Height')\n",
        "ax.set_xlabel('President Number')\n",
        "ax.set_ylabel('Height (cm)');"
      ],
      "execution_count": null,
      "outputs": [
        {
          "output_type": "display_data",
          "data": {
            "image/png": "[encoded data removed]",
            "text/plain": [
              "<Figure size 576x432 with 1 Axes>"
            ]
          },
          "metadata": {
            "needs_background": "light"
          }
        }
      ]
    },
    {
      "cell_type": "markdown",
      "metadata": {
        "id": "D1t4h-FQetGh"
      },
      "source": [
        "And a histogram."
      ]
    },
    {
      "cell_type": "code",
      "metadata": {
        "id": "c78gNQv6etGi",
        "colab": {
          "base_uri": "https://localhost:8080/",
          "height": 279
        },
        "outputId": "48cc01b7-e97d-49f9-946a-bdd4b1029f76"
      },
      "source": [
        "ax = prezzyheights[\"Height (cm)\"].plot.hist(bins=10)\n",
        "ax.set_xlabel('Height (cm)');"
      ],
      "execution_count": null,
      "outputs": [
        {
          "output_type": "display_data",
          "data": {
            "image/png": "[encoded data removed]",
            "text/plain": [
              "<Figure size 432x288 with 1 Axes>"
            ]
          },
          "metadata": {
            "needs_background": "light"
          }
        }
      ]
    },
    {
      "cell_type": "markdown",
      "metadata": {
        "id": "OlMTxnb7etGk"
      },
      "source": [
        "### Now for some statistics!"
      ]
    },
    {
      "cell_type": "code",
      "metadata": {
        "id": "TvLF2rP-etGk",
        "colab": {
          "base_uri": "https://localhost:8080/"
        },
        "outputId": "2b2a6313-2a8b-42b5-9e4e-5590ec47386e"
      },
      "source": [
        "# Number of presidents \n",
        "print('Number of presidents')\n",
        "print(prezzyheights.shape[0])\n",
        "print(len(prezzyheights[\"Height (cm)\"]))"
      ],
      "execution_count": null,
      "outputs": [
        {
          "output_type": "stream",
          "name": "stdout",
          "text": [
            "Number of presidents\n",
            "45\n",
            "45\n"
          ]
        }
      ]
    },
    {
      "cell_type": "code",
      "metadata": {
        "id": "war__9XietGn",
        "colab": {
          "base_uri": "https://localhost:8080/"
        },
        "outputId": "1ca91732-e6d3-4893-9784-c3a4febda515"
      },
      "source": [
        "# Max\n",
        "maxheight = prezzyheights[\"Height (cm)\"].max()\n",
        "print('Max height = {} cm'.format(maxheight))\n",
        "\n",
        "# The following generates a list of presidents with the max height\n",
        "# There happens to be only one with that height so we can take the first element.\n",
        "tallest = prezzyheights.loc[prezzyheights[\"Height (cm)\"] == maxheight, \"President\"]\n",
        "\n",
        "maxheightname = tallest.iloc[0]\n",
        "print('Tallest = {}'.format(maxheightname))"
      ],
      "execution_count": null,
      "outputs": [
        {
          "output_type": "stream",
          "name": "stdout",
          "text": [
            "Max height = 193 cm\n",
            "Tallest = Abraham Lincoln\n"
          ]
        }
      ]
    },
    {
      "cell_type": "code",
      "metadata": {
        "id": "2Fa84wHlE4og",
        "colab": {
          "base_uri": "https://localhost:8080/"
        },
        "outputId": "1488066a-ab72-4046-d03e-5dc11411015d"
      },
      "source": [
        "# Output the minimum presidential height allong with the corresponding name\n",
        "\n",
        "minheight = prezzyheights[\"Height (cm)\"].min()\n",
        "print('Min height = {} cm'.format(minheight))\n",
        "\n",
        "shortest = prezzyheights.loc[prezzyheights[\"Height (cm)\"] == minheight, \"President\"]\n",
        "\n",
        "minheightname = shortest.iloc[0]\n",
        "print('Shortest = {}'.format(minheightname))"
      ],
      "execution_count": null,
      "outputs": [
        {
          "output_type": "stream",
          "name": "stdout",
          "text": [
            "Min height = 163 cm\n",
            "Shortest = James Madison\n"
          ]
        }
      ]
    },
    {
      "cell_type": "markdown",
      "metadata": {
        "id": "rhakI7aOetGr"
      },
      "source": [
        "### Averages\n",
        "\n",
        "There are 3 commonly used averages in statistics, the **mean**, **median** and **mode**.\n",
        "\n",
        "* The **mean** is the most frequently used and is equal to the sum of a vector of data divided by the number of elements.  The mean takes all data into account equally.\n",
        "* The **median** is calculated by sorting the values and then picking the center one (if the number of elements is odd) or taking the mean of the two middle ones (if the number of elements is even).  The median is useful if there are outliers that could throw off your average.\n",
        "* The **mode** is the most frequently occuring value in your vector.  It isn't used very often."
      ]
    },
    {
      "cell_type": "code",
      "metadata": {
        "id": "JYO79CgUetGr",
        "colab": {
          "base_uri": "https://localhost:8080/"
        },
        "outputId": "745dc72c-e4b7-49e8-d9ac-15b226ff8899"
      },
      "source": [
        "meanheight = prezzyheights[\"Height (cm)\"].mean()\n",
        "medianheight = prezzyheights[\"Height (cm)\"].median()\n",
        "modeheight = prezzyheights[\"Height (cm)\"].mode().iloc[0]   \n",
        "\n",
        "print('mean height = {:.1f} cm'.format(meanheight))\n",
        "print('median height = {:.1f} cm'.format(medianheight))\n",
        "print('mode height = {} cm'.format(modeheight))"
      ],
      "execution_count": null,
      "outputs": [
        {
          "output_type": "stream",
          "name": "stdout",
          "text": [
            "mean height = 180.2 cm\n",
            "median height = 182.0 cm\n",
            "mode height = 183 cm\n"
          ]
        }
      ]
    },
    {
      "cell_type": "markdown",
      "metadata": {
        "id": "82fHA3t_etGs"
      },
      "source": [
        "### Data Spread (Dispersion)\n",
        "\n",
        "How spread out is our data? What is the average distance of the data points from the mean?\n",
        "Are all of the presidents pretty much the same height or is there some *variance*?\n",
        "\n",
        "The simplest measure of data spread is the **range** of values."
      ]
    },
    {
      "cell_type": "code",
      "metadata": {
        "id": "lJn-DHDletGt"
      },
      "source": [
        "# Output the ranage i.e. number of cm between tallest and shortest president\n",
        "range = maxheight - minheight\n",
        "print('Range height = {:.1f} cm'.format(range))"
      ],
      "execution_count": null,
      "outputs": []
    },
    {
      "cell_type": "markdown",
      "metadata": {
        "id": "0q4UjoMletGu"
      },
      "source": [
        "The usefulness of the range in describing the spread of our data is somewhat limited.  It could be primarily due to one really tall person and/or one really short person.\n",
        "\n",
        "If we want something more like an average distance from the mean, we should look at the **variance**.  If we have a vector of values like $X = [x_1, x_2, x_3, \\ldots]$ then, using summation notation, the mean is calculated via\n",
        "\n",
        "$$ \\bar{X} = \\frac{\\sum_i{x_i}}{N} $$\n",
        "\n",
        "where $\\bar{X}$ is the mean of $X$ and $N$ is the length of the $X$ vector.\n",
        "\n",
        "Now for the variance, we first want to take the difference between each $X$ value and the mean.  However, some of those $X$ values are bigger than the mean and some are smaller.  This means that some of the differences will be positive and others negative.  To get around this we square each difference so that they are all positive.  Then we sum the squared differences and divide by $N-1$. \n",
        "\n",
        "$$ \\mathrm{var}(X) = \\frac{\\sum_i{(x_i - \\bar{X})^2}}{(N-1)} $$\n",
        "\n",
        "Why $N-1$?  Well, we used up one of our independent measurements in the calculation of the mean.  We could delete that number from our vector and easily recalculate it from our knowledge of the other elements and the mean."
      ]
    },
    {
      "cell_type": "code",
      "metadata": {
        "id": "Xnw61b38etGu",
        "colab": {
          "base_uri": "https://localhost:8080/"
        },
        "outputId": "64ed149b-361e-4a27-b893-4fe70d272c8b"
      },
      "source": [
        "varheight = prezzyheights[\"Height (cm)\"].var()\n",
        "print('Height variance = {:.2f} cm^2'.format(varheight))"
      ],
      "execution_count": null,
      "outputs": [
        {
          "output_type": "stream",
          "name": "stdout",
          "text": [
            "Height variance = 49.41 cm^2\n"
          ]
        }
      ]
    },
    {
      "cell_type": "markdown",
      "metadata": {
        "id": "5AvdfWwVetGw"
      },
      "source": [
        "The variance will be big if the data spread is big and small if the spread is small.  Since we were summing squares, though, the number is hard to compare with our data values.  Look at the units!  $\\mathrm{cm}^2$?\n",
        "\n",
        "This is why, even more common than the variance, the standard deviation is used.  The standard deviation is the square root of the variance.  It has the same units as the measurement and gives us a good notion of the average spread of our data."
      ]
    },
    {
      "cell_type": "code",
      "metadata": {
        "id": "JdQVZqQEetGw",
        "colab": {
          "base_uri": "https://localhost:8080/"
        },
        "outputId": "8cca1a34-1da9-4a0a-e89b-cccba3e5c6c7"
      },
      "source": [
        "stdheight = prezzyheights[\"Height (cm)\"].std()\n",
        "print('Height standard deviation = {:.2f} cm'.format(stdheight))"
      ],
      "execution_count": null,
      "outputs": [
        {
          "output_type": "stream",
          "name": "stdout",
          "text": [
            "Height standard deviation = 7.03 cm\n"
          ]
        }
      ]
    },
    {
      "cell_type": "markdown",
      "metadata": {
        "id": "DbxpDu58etGx"
      },
      "source": [
        "Thus we can say that most presidents are within about seven cm of the mean height."
      ]
    },
    {
      "cell_type": "markdown",
      "metadata": {
        "id": "38MgRg-wetGy"
      },
      "source": [
        "Numpy also has many of these basic statistics calculating functions."
      ]
    },
    {
      "cell_type": "code",
      "metadata": {
        "id": "sI93J3yHetGy",
        "colab": {
          "base_uri": "https://localhost:8080/"
        },
        "outputId": "e3f3bba9-c009-43c4-fd96-b4db86d55a63"
      },
      "source": [
        "X = np.array([1.2, 3.5, 9.3, 3.5, 5.5, 6.1, 0.8])\n",
        "\n",
        "print('Median = {:.2f}'.format(np.median(X)))"
      ],
      "execution_count": null,
      "outputs": [
        {
          "output_type": "stream",
          "name": "stdout",
          "text": [
            "Median = 3.50\n"
          ]
        }
      ]
    },
    {
      "cell_type": "code",
      "metadata": {
        "id": "cYdfEYp2etGz",
        "colab": {
          "base_uri": "https://localhost:8080/"
        },
        "outputId": "07719e55-2ed4-44dd-a411-10be8b1bcfb3"
      },
      "source": [
        "## Use a numpy function to calculate the mean of the vector X, \n",
        "## use other numpy functions to calculate the max and min values.\n",
        "print('Mean = {:.2f}'.format(np.mean(X)))\n",
        "print('Min = {:.2f}'.format(np.min(X)))\n",
        "print('Max = {:.2f}'.format(np.max(X)))"
      ],
      "execution_count": null,
      "outputs": [
        {
          "output_type": "stream",
          "name": "stdout",
          "text": [
            "Mean = 4.27\n",
            "Min = 0.80\n",
            "Max = 9.30\n"
          ]
        }
      ]
    },
    {
      "cell_type": "markdown",
      "metadata": {
        "id": "NdPIzQX-etG0"
      },
      "source": [
        "Numpy doesn't have a mode function, but `scipy.stats` does"
      ]
    },
    {
      "cell_type": "code",
      "metadata": {
        "id": "pS_R_nm3etG0"
      },
      "source": [
        "import scipy.stats as sts\n",
        "print(sts.mode(X)[0])"
      ],
      "execution_count": null,
      "outputs": []
    },
    {
      "cell_type": "code",
      "metadata": {
        "id": "ZPPibviuKoSq"
      },
      "source": [
        "# Use scipy to find the mode of the array Y.  DO you agree ith the answer? (Y/N)  ______\n",
        "Y = np.array([5.5, 1.2, 3.5, 9.3, 3.5, 5.5, 6.1, 0.8])\n",
        "print(sts.mode(Y)[0])"
      ],
      "execution_count": null,
      "outputs": []
    },
    {
      "cell_type": "markdown",
      "metadata": {
        "id": "FdGNo1L4tJ97"
      },
      "source": [
        "No, I do not agree with the answer. There are 2 modes in Y. 3.5 and 5.5 are in the function Y two times. therfore they are both considered the mode. Yet, the scipy function only returns the 3.5"
      ]
    },
    {
      "cell_type": "markdown",
      "metadata": {
        "id": "WFycqqO2etG3"
      },
      "source": [
        "The `var` and `std` functions work a little different in `numpy` than they do in Pandas.  In Pandas, the default is to divide by $N-1$ when calculating the variance.  Not so with the `numpy` functions, so you will need to specify."
      ]
    },
    {
      "cell_type": "code",
      "metadata": {
        "id": "a77F5uHzetG3",
        "colab": {
          "base_uri": "https://localhost:8080/"
        },
        "outputId": "22059c79-e044-4b1a-f989-771534a3ec17"
      },
      "source": [
        "varX = np.var(X, ddof=1) # ddof is the number subtracted from N \n",
        "stdX = np.std(X, ddof=1)\n",
        "\n",
        "print('Variance = {:.2f}'.format(varX))\n",
        "print('Standard Deviation = {:.2f}'.format(stdX))"
      ],
      "execution_count": null,
      "outputs": [
        {
          "output_type": "stream",
          "name": "stdout",
          "text": [
            "Variance = 8.80\n",
            "Standard Deviation = 2.97\n"
          ]
        }
      ]
    }
  ]
}