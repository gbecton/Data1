{
  "nbformat": 4,
  "nbformat_minor": 0,
  "metadata": {
    "colab": {
      "name": "BigData_GB.ipynb",
      "provenance": [],
      "collapsed_sections": []
    },
    "kernelspec": {
      "display_name": "Python 3",
      "language": "python",
      "name": "python3"
    }
  },
  "cells": [
    {
      "cell_type": "markdown",
      "metadata": {
        "id": "YVSjZrgAA7SH"
      },
      "source": [
        "# Really Big Data\n",
        "##Gabriel Becton\n",
        "\n",
        "\n",
        "Today we will be using the MapReduce programming model which allows workflows that are scalable, distributed and robust.  "
      ]
    },
    {
      "cell_type": "markdown",
      "metadata": {
        "id": "MC5NUDcrA7SJ"
      },
      "source": [
        "## MapReduce\n",
        "\n",
        "MapReduce makes use of two functions, a mapper and a reducer.  The mapper creates a map between essential pieces of information, like creating count lists of each word in a document or record.  The reducer aggregates the output of the mapper, extracting the information that we would like to know.\n",
        "\n",
        "We will first take a look at how MapReduce works with a very simple word counting example.\n",
        "\n",
        "The mapper function below takes in a document consisting of words.  The text is first made lowercase and then split into words on whitespace.  The mapper then returns a generator object that we can run a loop over.  The generator yields tuples of a word paired with the number 1, implying that we have found one instance of that word."
      ]
    },
    {
      "cell_type": "code",
      "metadata": {
        "id": "RxgE2B6HA7SL"
      },
      "source": [
        "def wc_mapper(document):\n",
        "    \"\"\"for each word in the docoument, output (word, 1)\"\"\"\n",
        "    for word in document.lower().split(): \n",
        "        yield (word, 1) # yield produces a generator object that you can run\n",
        "                        # a loop over.  In this case each object is a tuple."
      ],
      "execution_count": null,
      "outputs": []
    },
    {
      "cell_type": "markdown",
      "metadata": {
        "id": "pdxLZX_5A7SQ"
      },
      "source": [
        "Next, we define a word count reducer.  The reducer takes in a word and a list of count instances.  The reducer sums the counts and returns a generator of word and count sums."
      ]
    },
    {
      "cell_type": "code",
      "metadata": {
        "id": "u6XOe9zqA7SQ"
      },
      "source": [
        "def wc_reducer(word, counts):\n",
        "    \"\"\"sum up the counts for a word\"\"\"\n",
        "    yield (word, sum(counts))"
      ],
      "execution_count": null,
      "outputs": []
    },
    {
      "cell_type": "markdown",
      "metadata": {
        "id": "bBPqYUI8A7SU"
      },
      "source": [
        "Let's apply our word count mapper and reducer to a set of documents which is just a set of short strings.  Using a MapReduce method for word counts on something this small is crazy overkill but it will let us see how the mapper and reducer work."
      ]
    },
    {
      "cell_type": "code",
      "metadata": {
        "id": "Pj3BIYihA7SV",
        "colab": {
          "base_uri": "https://localhost:8080/"
        },
        "outputId": "10bf059f-8f01-4903-d3c4-8112e7d478f2"
      },
      "source": [
        "from collections import defaultdict\n",
        "\n",
        "silly_short_docs = [\"data science\", \"big data\", \"science fiction\"]\n",
        "\n",
        "collector = defaultdict(list) # start a dictionary of 'key': value pairs where\n",
        "                              # value is a list\n",
        "\n",
        "for document in silly_short_docs:\n",
        "    for word, count in wc_mapper(document): # Iterate over word, count pairs\n",
        "        collector[word].append(count) # Add the word to the dictionary, if necessary and \n",
        "                                      # append a 1 to the list assocated with that word\n",
        "\n",
        "# Take a look at the collector            \n",
        "collector"
      ],
      "execution_count": null,
      "outputs": [
        {
          "output_type": "execute_result",
          "data": {
            "text/plain": [
              "defaultdict(list,\n",
              "            {'big': [1], 'data': [1, 1], 'fiction': [1], 'science': [1, 1]})"
            ]
          },
          "metadata": {},
          "execution_count": 3
        }
      ]
    },
    {
      "cell_type": "markdown",
      "metadata": {
        "id": "CeGibArTA7Sc"
      },
      "source": [
        "The collector is now a dictionary of words appearing in our \"documents\".  The keys are the words and the values are lists of ones.  The length of the lists indicates how many times that word appears in our documents.\n",
        "\n",
        "Now that we have run our mapper and generated the collection of word, count list pairs, we can aggregate using our reducer function."
      ]
    },
    {
      "cell_type": "code",
      "metadata": {
        "id": "lk60rW4yA7Sd",
        "colab": {
          "base_uri": "https://localhost:8080/"
        },
        "outputId": "8ee146d2-33ca-4a65-eaf4-fbbf35ded1c2"
      },
      "source": [
        "for word, countslist in collector.items(): # Iterate over key:value pairs\n",
        "    for word, count in wc_reducer(word, countslist):\n",
        "        print('{} {}'.format(word, count))"
      ],
      "execution_count": null,
      "outputs": [
        {
          "output_type": "stream",
          "name": "stdout",
          "text": [
            "data 2\n",
            "science 2\n",
            "big 1\n",
            "fiction 1\n"
          ]
        }
      ]
    },
    {
      "cell_type": "markdown",
      "metadata": {
        "id": "AFX-XACrA7So"
      },
      "source": [
        "Now that we have seen the mapper and reducer at work, we can pull it all together by defining the `map_reduce` function.  This function is general enough that we will be able to use it for the rest of this notebook.  If we want to change the type of calculation we are doing, we can simply write new mapper and reducer function to feed to `map_reduce`."
      ]
    },
    {
      "cell_type": "code",
      "metadata": {
        "id": "H1Y413HgA7Sr"
      },
      "source": [
        "def map_reduce(inputs, mapper, reducer):\n",
        "    \"\"\"runs MapReduce on the inputs using mapper and reducer\"\"\"\n",
        "    collector = defaultdict(list)\n",
        "    \n",
        "    for i_input in inputs:\n",
        "        for key, value in mapper(i_input):\n",
        "            collector[key].append(value)\n",
        "            \n",
        "    return[output\n",
        "          for key, values in collector.items()\n",
        "          for output in reducer(key, values)]"
      ],
      "execution_count": null,
      "outputs": []
    },
    {
      "cell_type": "markdown",
      "metadata": {
        "id": "oUxQjRBGA7Sv"
      },
      "source": [
        "The output of `map_reduce` will be the same as previous."
      ]
    },
    {
      "cell_type": "code",
      "metadata": {
        "id": "c2uQwNq0A7Sx",
        "colab": {
          "base_uri": "https://localhost:8080/"
        },
        "outputId": "e08feb2e-bd59-47f2-f96b-19970dc2b8b6"
      },
      "source": [
        "word_counts = map_reduce(silly_short_docs, wc_mapper, wc_reducer)\n",
        "word_counts"
      ],
      "execution_count": null,
      "outputs": [
        {
          "output_type": "execute_result",
          "data": {
            "text/plain": [
              "[('data', 2), ('science', 2), ('big', 1), ('fiction', 1)]"
            ]
          },
          "metadata": {},
          "execution_count": 6
        }
      ]
    },
    {
      "cell_type": "markdown",
      "metadata": {
        "id": "MQ17euYPA7S2"
      },
      "source": [
        "`word_counts` is a list of tuples consisting of each word in our document followed by the number of instances of that word."
      ]
    },
    {
      "cell_type": "markdown",
      "metadata": {
        "id": "z4hRxx79A7S3"
      },
      "source": [
        "## Now for the Really Big Data\n",
        "\n",
        "For our big data example, we will analyze some Kindle book reviews from Amazon.  A large set of these reviews is stored on Kaggle.\n",
        "\n",
        "We will first need to set up Kaggle.  You can find your Kaggle information in your kaggle.json file or copy it from your Lab 16 notebook."
      ]
    },
    {
      "cell_type": "code",
      "metadata": {
        "id": "76FJgHdKA7S3"
      },
      "source": [
        "# Replace 'username' with your username from your kaggle.json file\n",
        "# Replace 'yourkey' with your key from your kaggle.json file\n",
        "# This key will be a long string of numbers and letters\n",
        "\n",
        "import os\n",
        "os.environ['KAGGLE_USERNAME']='gabrielbecton'\n",
        "os.environ['KAGGLE_KEY']='62a34da3f59850bcad7cf043f0d2a4cd'"
      ],
      "execution_count": null,
      "outputs": []
    },
    {
      "cell_type": "markdown",
      "metadata": {
        "id": "vh5hyqYbA7S_"
      },
      "source": [
        "Next, to download the data.  The Kaggle website, which includes descriptions of the data is [here](https://www.kaggle.com/bharadwaj6/kindle-reviews/home).  Open the link to take a look at the data columns and what they mean."
      ]
    },
    {
      "cell_type": "code",
      "metadata": {
        "id": "mQO4pHngA7TA",
        "colab": {
          "base_uri": "https://localhost:8080/"
        },
        "outputId": "fe03dd96-7758-422f-de87-747090145dfb"
      },
      "source": [
        "### Download the data\n",
        "! kaggle datasets download -d bharadwaj6/kindle-reviews"
      ],
      "execution_count": null,
      "outputs": [
        {
          "output_type": "stream",
          "name": "stdout",
          "text": [
            "Downloading kindle-reviews.zip to /content\n",
            " 97% 511M/525M [00:03<00:00, 139MB/s]\n",
            "100% 525M/525M [00:03<00:00, 145MB/s]\n"
          ]
        }
      ]
    },
    {
      "cell_type": "markdown",
      "metadata": {
        "id": "xFv2zVcvA7TI"
      },
      "source": [
        "This data set is large enough that we will prefer to work with the zipped files and not plop a couple of huge unzipped files into our Colaboratory workspace.  It is also best to not read the whole csv file into a single Pandas DataFrame.  This process is SLOOOOOOOOOOOOOOWWWW and will take a huge amount of memory.  Unless you have a nice gaming computer with lots of memory, you will probably not want to deal with the files all at once."
      ]
    },
    {
      "cell_type": "markdown",
      "metadata": {
        "id": "gt25QKx_A7TK"
      },
      "source": [
        "Let's deal with the files in their zipped form and check out their sizes."
      ]
    },
    {
      "cell_type": "code",
      "metadata": {
        "id": "CyXY2yQ9A7TK",
        "colab": {
          "base_uri": "https://localhost:8080/"
        },
        "outputId": "72df3f38-b7cf-4c5a-addf-db3401552d0b"
      },
      "source": [
        "from pathlib import Path\n",
        "import zipfile\n",
        "\n",
        "kindlerev_path = Path('kindle-reviews.zip')\n",
        "\n",
        "zf = zipfile.ZipFile(str(kindlerev_path), 'r') \n",
        "print([f.filename for f in zf.filelist])"
      ],
      "execution_count": null,
      "outputs": [
        {
          "output_type": "stream",
          "name": "stdout",
          "text": [
            "['kindle_reviews.csv', 'kindle_reviews.json']\n"
          ]
        }
      ]
    },
    {
      "cell_type": "code",
      "metadata": {
        "id": "hX-lVGyyA7TQ",
        "colab": {
          "base_uri": "https://localhost:8080/"
        },
        "outputId": "93f923d1-fe39-400e-a2da-becb29258cc5"
      },
      "source": [
        "print('Uncompressed CSV file size = {}'.format( zf.filelist[0].file_size/1e6))\n",
        "print('Compressed CSV file size = {}'.format( zf.filelist[0].compress_size/1e6))"
      ],
      "execution_count": null,
      "outputs": [
        {
          "output_type": "stream",
          "name": "stdout",
          "text": [
            "Uncompressed CSV file size = 701.881303\n",
            "Compressed CSV file size = 271.663093\n"
          ]
        }
      ]
    },
    {
      "cell_type": "markdown",
      "metadata": {
        "id": "UG1XHeU7A7TU"
      },
      "source": [
        "### Create a Database of Data Chunks\n",
        "\n",
        "Instead of reading the huge csv file into a Pandas DataFrame, one strategy that we can pursue is to read chunks of the data into separate SQL tables.  This has two advantages.  First, by parsing out the data into multiple tables, we could have different computers, or processors each working on a separate table.  The more computers available to us, the faster the work would go.  Secondly, using a database can save a lot of memory because we can query and load into memory only the columns that we need for our calculation."
      ]
    },
    {
      "cell_type": "code",
      "metadata": {
        "id": "t6GLp1vJA7TV"
      },
      "source": [
        "import pandas as pd\n",
        "from sqlalchemy import create_engine\n",
        "\n",
        "csv_database = create_engine('sqlite:///kindlereviews.db')"
      ],
      "execution_count": null,
      "outputs": []
    },
    {
      "cell_type": "code",
      "metadata": {
        "id": "lYNNJWMiA7Ta"
      },
      "source": [
        "chunksize = 100000 # number of lines to read at once\n",
        "i = 0 # chunk/table number\n",
        "\n",
        "with zf.open(zf.filelist[0].filename) as csvfile:\n",
        "    for df in pd.read_csv(csvfile, chunksize=chunksize, iterator=True):\n",
        "        tablename = 'table{}'.format(i)\n",
        "        df.to_sql(tablename, csv_database)\n",
        "        i+=1\n",
        "        \n",
        "# This cell will take a while to run."
      ],
      "execution_count": null,
      "outputs": []
    },
    {
      "cell_type": "markdown",
      "metadata": {
        "id": "exT3BwG4A7Ti"
      },
      "source": [
        "How many tables did we generate?"
      ]
    },
    {
      "cell_type": "code",
      "metadata": {
        "id": "Tc7zDw_qA7Tj",
        "colab": {
          "base_uri": "https://localhost:8080/"
        },
        "outputId": "48efbeb0-8ba5-4be3-8909-a505fe00496c"
      },
      "source": [
        "import sqlalchemy\n",
        "\n",
        "inspector = sqlalchemy.inspect(csv_database)\n",
        "inspector.get_table_names()"
      ],
      "execution_count": null,
      "outputs": [
        {
          "output_type": "execute_result",
          "data": {
            "text/plain": [
              "['table0',\n",
              " 'table1',\n",
              " 'table2',\n",
              " 'table3',\n",
              " 'table4',\n",
              " 'table5',\n",
              " 'table6',\n",
              " 'table7',\n",
              " 'table8',\n",
              " 'table9']"
            ]
          },
          "metadata": {},
          "execution_count": 15
        }
      ]
    },
    {
      "cell_type": "code",
      "metadata": {
        "id": "FNRHYnT_A7Tn",
        "colab": {
          "base_uri": "https://localhost:8080/"
        },
        "outputId": "ddf75088-ee38-4cea-dcb2-5c9d3335998c"
      },
      "source": [
        "# Get column information\n",
        "print('table0 = ')\n",
        "for col in inspector.get_columns(\"table0\"):\n",
        "    print(col)"
      ],
      "execution_count": null,
      "outputs": [
        {
          "output_type": "stream",
          "name": "stdout",
          "text": [
            "table0 = \n",
            "{'name': 'index', 'type': BIGINT(), 'nullable': True, 'default': None, 'autoincrement': 'auto', 'primary_key': 0}\n",
            "{'name': 'Unnamed: 0', 'type': BIGINT(), 'nullable': True, 'default': None, 'autoincrement': 'auto', 'primary_key': 0}\n",
            "{'name': 'asin', 'type': TEXT(), 'nullable': True, 'default': None, 'autoincrement': 'auto', 'primary_key': 0}\n",
            "{'name': 'helpful', 'type': TEXT(), 'nullable': True, 'default': None, 'autoincrement': 'auto', 'primary_key': 0}\n",
            "{'name': 'overall', 'type': BIGINT(), 'nullable': True, 'default': None, 'autoincrement': 'auto', 'primary_key': 0}\n",
            "{'name': 'reviewText', 'type': TEXT(), 'nullable': True, 'default': None, 'autoincrement': 'auto', 'primary_key': 0}\n",
            "{'name': 'reviewTime', 'type': TEXT(), 'nullable': True, 'default': None, 'autoincrement': 'auto', 'primary_key': 0}\n",
            "{'name': 'reviewerID', 'type': TEXT(), 'nullable': True, 'default': None, 'autoincrement': 'auto', 'primary_key': 0}\n",
            "{'name': 'reviewerName', 'type': TEXT(), 'nullable': True, 'default': None, 'autoincrement': 'auto', 'primary_key': 0}\n",
            "{'name': 'summary', 'type': TEXT(), 'nullable': True, 'default': None, 'autoincrement': 'auto', 'primary_key': 0}\n",
            "{'name': 'unixReviewTime', 'type': BIGINT(), 'nullable': True, 'default': None, 'autoincrement': 'auto', 'primary_key': 0}\n"
          ]
        }
      ]
    },
    {
      "cell_type": "markdown",
      "metadata": {
        "id": "z8VuzH0DA7Tq"
      },
      "source": [
        "### Is there a difference between 1 star reviews and 5 star reviews?\n",
        "\n",
        "Now we are ready to ask a question of our data.  Is there a difference in the words most commonly used in book reviews based on the book rating given by the reviewer?\n",
        "\n",
        "We will need to write new mapper and reducer functions to perform this count.\n",
        "\n",
        "To make our results more interesting, we will first download a list of \"stopwords\" from the Natural Language ToolKit (NLTK).  \"stopwords\" are boring words like \"a\", \"and\", \"the\" etc.  We expect that these very common words will be in all of reviews, regardless of the book rating.  "
      ]
    },
    {
      "cell_type": "code",
      "metadata": {
        "id": "oREFNWLOA7Tq",
        "colab": {
          "base_uri": "https://localhost:8080/"
        },
        "outputId": "b97bc108-48f3-42f4-baad-db29422ad473"
      },
      "source": [
        "import nltk\n",
        "nltk.download('stopwords')\n",
        "from collections import defaultdict\n",
        "from collections import Counter\n",
        "import re\n",
        "\n",
        "from nltk.corpus import stopwords\n",
        "stop_words = set(stopwords.words('english'))"
      ],
      "execution_count": null,
      "outputs": [
        {
          "output_type": "stream",
          "name": "stdout",
          "text": [
            "[nltk_data] Downloading package stopwords to /root/nltk_data...\n",
            "[nltk_data]   Unzipping corpora/stopwords.zip.\n"
          ]
        }
      ]
    },
    {
      "cell_type": "markdown",
      "metadata": {
        "id": "loz73aC6A7Tt"
      },
      "source": [
        "Our mapper function will take in a review and inspect the number of stars (in the \"overall\") column and the \"reviewText\".  As long as the \"reviewText\" not empty, each word in the \"reviewText\" will create a (word, 1) tuple that will be associated with the number of stars."
      ]
    },
    {
      "cell_type": "code",
      "metadata": {
        "id": "ybGkzf8HA7Tt"
      },
      "source": [
        "def words_per_star_mapper(review):\n",
        "    star = review[\"overall\"]\n",
        "    if review[\"reviewText\"] is not None:\n",
        "        for word in re.findall(r'\\w+', review[\"reviewText\"].lower()):\n",
        "            yield(star, (word, 1))"
      ],
      "execution_count": null,
      "outputs": []
    },
    {
      "cell_type": "markdown",
      "metadata": {
        "id": "-PNm1eHnA7Tw"
      },
      "source": [
        "The new reducer function takes in the attribute (in this case stars) and a tuple of (word, count) pairs.  As long as a word is not a stop word, its count is added to word_counts.  The 20 most common words in word_counts is returned."
      ]
    },
    {
      "cell_type": "code",
      "metadata": {
        "id": "4QipoybwA7Tw"
      },
      "source": [
        "def most_pop_word_reducer(attr, words_n_counts):\n",
        "    \"\"\"Given a sequence of (word, count) pairs,\n",
        "    return the top 20 words with the highest total count\"\"\"\n",
        "    \n",
        "    word_counts = Counter()\n",
        "    for word, count in words_n_counts:\n",
        "        if word not in stop_words:\n",
        "            word_counts[word] += count\n",
        "        \n",
        "    pop_list = word_counts.most_common(20)\n",
        "    \n",
        "    yield(attr, pop_list)"
      ],
      "execution_count": null,
      "outputs": []
    },
    {
      "cell_type": "markdown",
      "metadata": {
        "id": "56jFiUVVA7Ty"
      },
      "source": [
        "Next we will read the necessary data from our database into a Pandas DataFrame.  Ideally, we would have access to multiple computers and each table would be handed off to a separate computer.  Since we are running on just one computer, we will read in and use data from just 3 of our tables. "
      ]
    },
    {
      "cell_type": "code",
      "metadata": {
        "id": "bfwRtvjfA7Tz"
      },
      "source": [
        "sql_str = \"\"\"\n",
        "SELECT overall, reviewText \n",
        "FROM {tname};\n",
        "\"\"\"\n",
        "\n",
        "revdf = pd.DataFrame([])\n",
        "\n",
        "for itable in range(3):\n",
        "    tname = 'table{}'.format(itable)\n",
        "    sql_expr = sql_str.format(tname=tname)\n",
        "    revdf = revdf.append(pd.read_sql(sql_expr, csv_database), ignore_index=True)    "
      ],
      "execution_count": null,
      "outputs": []
    },
    {
      "cell_type": "code",
      "metadata": {
        "id": "xVP3M7JeA7T1"
      },
      "source": [
        "revdf.head()"
      ],
      "execution_count": null,
      "outputs": []
    },
    {
      "cell_type": "markdown",
      "metadata": {
        "id": "dASrlvOzA7T4"
      },
      "source": [
        "Now we can use MapReduce.  Warning: this will take a while unless your computer is very awesome. The method .to_dict('records') splits the Data Frame into a list of dictionaries with one DataFrame row per dictionary."
      ]
    },
    {
      "cell_type": "code",
      "metadata": {
        "id": "-yhxwKchA7T4"
      },
      "source": [
        "star_pop_words = map_reduce(revdf.to_dict('records'), words_per_star_mapper, most_pop_word_reducer)\n",
        "star_pop_words\n"
      ],
      "execution_count": null,
      "outputs": []
    },
    {
      "cell_type": "markdown",
      "metadata": {
        "id": "Q7o6H80lA7T7"
      },
      "source": [
        "Some words, such as 'book', 'read', and 'story' appear commonly in all reviews, regardless of the number of stars.  On the other hand, 'love' moves up the rankings from not being present at all among the top 20 for one star reviews to being the 5th most commonly used non-stop word for 5 star reviews.\n",
        "\n",
        "Let's make a bar chart!\n",
        "\n",
        "We will plot ('love' counts)/('book' counts) for 2-5 star reviews.  We will divide the counts for the two words since 'book' appears most often for all star types and will serve as a normalizing factor since there may be a lot more 5 star reviews than 2 star reviews."
      ]
    },
    {
      "cell_type": "code",
      "metadata": {
        "id": "cmPaUi8IA7T9",
        "colab": {
          "base_uri": "https://localhost:8080/"
        },
        "outputId": "b101240c-2eef-4832-f168-5dde3ae91c92"
      },
      "source": [
        "love_counts = []\n",
        "\n",
        "for star in range(2,6):\n",
        "    index = 5-star\n",
        "    love_counts.extend([count for word, count in star_pop_words[index][1] if word == 'love'])\n",
        "    \n",
        "love_counts"
      ],
      "execution_count": null,
      "outputs": [
        {
          "output_type": "execute_result",
          "data": {
            "text/plain": [
              "[2839, 9081, 29784, 67263]"
            ]
          },
          "metadata": {},
          "execution_count": 23
        }
      ]
    },
    {
      "cell_type": "code",
      "metadata": {
        "id": "hY9hk7OgA7UA",
        "colab": {
          "base_uri": "https://localhost:8080/"
        },
        "outputId": "d8349852-c717-4e61-df1b-aff6fc49fec4"
      },
      "source": [
        "book_counts = []\n",
        "\n",
        "for star in range(2,6):\n",
        "    index = 5-star\n",
        "    book_counts.extend([count for word, count in star_pop_words[index][1] if word == 'book'])\n",
        "    \n",
        "book_counts"
      ],
      "execution_count": null,
      "outputs": [
        {
          "output_type": "execute_result",
          "data": {
            "text/plain": [
              "[17562, 42324, 94832, 170427]"
            ]
          },
          "metadata": {},
          "execution_count": 24
        }
      ]
    },
    {
      "cell_type": "code",
      "metadata": {
        "id": "M9Iz49ORA7UF",
        "colab": {
          "base_uri": "https://localhost:8080/",
          "height": 472
        },
        "outputId": "521868b7-3e2b-4147-c72a-ad095c670d63"
      },
      "source": [
        "%matplotlib inline\n",
        "import matplotlib.pyplot as plt; plt.rcdefaults()\n",
        "import numpy as np\n",
        "\n",
        "love_counts = [np.float(count) for count in love_counts]\n",
        "book_counts = [np.float(count) for count in book_counts]\n",
        "\n",
        "love_counts = np.asarray(love_counts)\n",
        "book_counts = np.asarray(book_counts)\n",
        "\n",
        "love_book = love_counts/book_counts\n",
        "star = np.arange(2,6)\n",
        "\n",
        "y_pos = np.arange(len(star))\n",
        " \n",
        "plt.bar(y_pos, love_book, align='center', alpha=0.5)\n",
        "plt.xticks(y_pos, star)\n",
        "plt.ylabel('(love counts)/(book counts)')\n",
        "plt.xlabel('Number of Stars')\n",
        "plt.title('Relative occurance of the word \"love\" in book review per rating')\n",
        " \n",
        "plt.show()"
      ],
      "execution_count": null,
      "outputs": [
        {
          "output_type": "display_data",
          "data": {
            "image/png": "[encoded data removed]",
            "text/plain": [
              "<Figure size 640x480 with 1 Axes>"
            ]
          },
          "metadata": {}
        }
      ]
    },
    {
      "cell_type": "code",
      "metadata": {
        "id": "-MZkAZnIA7UI"
      },
      "source": [
        "# Find the most common words used in the review 'summary' \n",
        "# using MapReduce\n",
        "# You should be able to do this via the following steps\n",
        "# 1. Write a new mapper function that looks at the text in 'summary'\n",
        "# 2. Read the data from 3 database tables into a DataFrame using an appropriately\n",
        "# modified query\n",
        "# 3. Run the map_reduce function with the new DataFrame and your new mapper.\n",
        "\n",
        "def words_per_star_mapper(review):\n",
        "    star = review[\"overall\"]\n",
        "    if review[\"summary\"] is not None:\n",
        "        for word in re.findall(r'\\w+', review[\"summary\"].lower()):\n",
        "            yield(star, (word, 1))\n",
        "\n",
        "def most_pop_word_reducer(attr, words_n_counts):\n",
        "    \"\"\"Given a sequence of (word, count) pairs,\n",
        "    return the top 20 words with the highest total count\"\"\"\n",
        "    \n",
        "    word_counts = Counter()\n",
        "    for word, count in words_n_counts:\n",
        "        if word not in stop_words:\n",
        "            word_counts[word] += count\n",
        "        \n",
        "    pop_list = word_counts.most_common(20)\n",
        "    \n",
        "    yield(attr, pop_list)\n",
        "            "
      ],
      "execution_count": null,
      "outputs": []
    },
    {
      "cell_type": "code",
      "metadata": {
        "id": "oyZ-4vUUA7UL"
      },
      "source": [
        "sql_str = \"\"\"\n",
        "SELECT overall, summary \n",
        "FROM {tname};\n",
        "\"\"\"\n",
        "\n",
        "revdf = pd.DataFrame([])\n",
        "\n",
        "for itable in range(3):\n",
        "    tname = 'table{}'.format(itable)\n",
        "    sql_expr = sql_str.format(tname=tname)\n",
        "    revdf = revdf.append(pd.read_sql(sql_expr, csv_database), ignore_index=True)      "
      ],
      "execution_count": null,
      "outputs": []
    },
    {
      "cell_type": "code",
      "metadata": {
        "id": "VI4bA0FaA7UM"
      },
      "source": [
        "star_pop_words = map_reduce(revdf.to_dict('records'), words_per_star_mapper, most_pop_word_reducer)\n",
        "star_pop_words\n"
      ],
      "execution_count": null,
      "outputs": []
    },
    {
      "cell_type": "code",
      "metadata": {
        "id": "iGhrCq9JA7UP",
        "colab": {
          "base_uri": "https://localhost:8080/"
        },
        "outputId": "c87e4559-2e10-4a7f-c4a2-9423d356491f"
      },
      "source": [
        "# Look at the results from TASK 1 and make a plot of an interesting\n",
        "# trend.\n",
        "\n",
        "great_counts = []\n",
        "\n",
        "for star in range(2,6):\n",
        "    index = 5-star\n",
        "    great_counts.extend([count for word, count in star_pop_words[index][1] if word == 'great'])\n",
        "    \n",
        "great_counts\n",
        "\n"
      ],
      "execution_count": null,
      "outputs": [
        {
          "output_type": "execute_result",
          "data": {
            "text/plain": [
              "[239, 1073, 6509, 18274]"
            ]
          },
          "metadata": {},
          "execution_count": 38
        }
      ]
    },
    {
      "cell_type": "code",
      "metadata": {
        "colab": {
          "base_uri": "https://localhost:8080/"
        },
        "id": "6QtsP5NkDc3v",
        "outputId": "69c4c5f4-f4de-4587-efff-fdfb8bb2e702"
      },
      "source": [
        "book_counts = []\n",
        "\n",
        "for star in range(2,6):\n",
        "    index = 5-star\n",
        "    book_counts.extend([count for word, count in star_pop_words[index][1] if word == 'book'])\n",
        "    \n",
        "book_counts"
      ],
      "execution_count": null,
      "outputs": [
        {
          "output_type": "execute_result",
          "data": {
            "text/plain": [
              "[674, 1839, 5449, 13303]"
            ]
          },
          "metadata": {},
          "execution_count": 39
        }
      ]
    },
    {
      "cell_type": "code",
      "metadata": {
        "id": "9OSu5vRFA7US",
        "colab": {
          "base_uri": "https://localhost:8080/",
          "height": 472
        },
        "outputId": "b44dbc1c-336d-4718-c33c-662ced86ee78"
      },
      "source": [
        "great_counts = [np.float(count) for count in great_counts]\n",
        "book_counts = [np.float(count) for count in book_counts]\n",
        "\n",
        "great_counts = np.asarray(great_counts)\n",
        "book_counts = np.asarray(book_counts)\n",
        "\n",
        "great_book = great_counts/book_counts\n",
        "star = np.arange(2,6)\n",
        "\n",
        "y_pos = np.arange(len(star))\n",
        " \n",
        "plt.bar(y_pos, great_book, align='center', alpha=0.5)\n",
        "plt.xticks(y_pos, star)\n",
        "plt.ylabel('(great counts)/(book counts)')\n",
        "plt.xlabel('Number of Stars')\n",
        "plt.title('Relative occurance of the word \"great\" in book review per rating')\n",
        " \n",
        "plt.show()"
      ],
      "execution_count": null,
      "outputs": [
        {
          "output_type": "display_data",
          "data": {
            "image/png": "[encoded data removed]",
            "text/plain": [
              "<Figure size 640x480 with 1 Axes>"
            ]
          },
          "metadata": {}
        }
      ]
    },
    {
      "cell_type": "markdown",
      "metadata": {
        "id": "NNk09VEUD37T"
      },
      "source": [
        "It looks like the numbre of times great is used is even more than book when the star rating is 4 or 5."
      ]
    }
  ]
}